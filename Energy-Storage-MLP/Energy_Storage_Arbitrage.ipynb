{
 "cells": [
  {
   "cell_type": "markdown",
   "metadata": {
    "id": "_AuyqFQaMgwp"
   },
   "source": [
    "- More features (RTP)\n",
    "- MLP structure\n",
    "- DAP value function\n",
    "- Other markets & parameters (transferability)\n"
   ]
  },
  {
   "cell_type": "markdown",
   "metadata": {
    "id": "w-IxgWwfSAFw"
   },
   "source": [
    "# **Preparation**\n",
    "\n",
    "CalcValueNoUnc() and ArbValue()"
   ]
  },
  {
   "cell_type": "code",
   "execution_count": 1,
   "metadata": {
    "id": "zgYTBJKryueW"
   },
   "outputs": [],
   "source": [
    "import scipy.io\n",
    "import numpy as np\n",
    "import math\n",
    "import matplotlib.pyplot as plt\n",
    "from datetime import date\n",
    "import tensorflow as tf\n",
    "from datetime import date\n",
    "import time\n",
    "import pandas as pd"
   ]
  },
  {
   "cell_type": "code",
   "execution_count": 3,
   "metadata": {
    "id": "vVsSqNiJJMii"
   },
   "outputs": [],
   "source": [
    "# Compute current value function using the value function from the next time period\n",
    "def CalcValueNoUnc(d, c, P, eta, vi, ed, iC, iD):\n",
    "    \"\"\"\n",
    "    Title: Calculate Risk-Neutral value function using deterministic price\n",
    "    Inputs:\n",
    "        d - price right now\n",
    "        c - marginal discharge cost\n",
    "        P - power rating w.r.t to energy rating and sampling time,\n",
    "        i.e., 2hr duration battery with 5min resolution -> P = (1/2)/12 \n",
    "        eta - efficiency\n",
    "        vi - input value function for the next time period, which equals to\n",
    "        v_t(e) where e is sampled from 0 to 1 at the granularity e\n",
    "        ed - granularity at which vi is sampled, in p.u. to energy rating\n",
    "    Outputs:\n",
    "        vo - value function for the current time period sampled at ed\n",
    "    \"\"\"\n",
    "    # add a large number of upper and lower v, where the first point is\n",
    "    # v_t(0-) = +infty, and the second point is v_t(0), the second largest one is\n",
    "    # v_t(1), and the largest one is v_t(1+) = -infty\n",
    "    lNum = 1e5*np.ones((1,))\n",
    "    v_foo = np.concatenate([lNum, vi, -lNum], axis=0)\n",
    "\n",
    "    # # calculate soc after charge vC = v_t(e+P*eta)\n",
    "    vC = v_foo[iC]\n",
    "\n",
    "    # # calculate soc after discharge vC = v_t(e-P/eta)\n",
    "    vD = v_foo[iD]\n",
    "\n",
    "    # calculate CDF and PDF\n",
    "    FtEC = (vi*eta > d).astype(int) # F_t(v_t(e)*eta)\n",
    "    FtCC = (vC*eta > d).astype(int) # F_t(v_t(e+P*eta)*eta)\n",
    "    FtED = ((vi/eta + c)*((vi/eta + c) > 0) > d).astype(int) # F_t(v_t(e)/eta + c) \n",
    "    FtDD = ((vD/eta + c)*((vD/eta + c) > 0) > d).astype(int) # F_t(v_t(e-P/eta)/eta + c) \n",
    "\n",
    "    # calculate terms\n",
    "    Term1 = vC * FtCC\n",
    "    Term2 = d*(vC*eta <= d)*(vi*eta > d)/ eta\n",
    "    Term3 = vi * (FtED - FtEC)\n",
    "    Term4 = d*(((vi/eta + c)*((vi/eta + c) > 0)) <= d)*(((vD/eta + c)*((vD/eta + c) > 0))>d) * eta\n",
    "    Term5 = - c * eta * (FtDD - FtED)\n",
    "    Term6 = vD * (1-FtDD)\n",
    "\n",
    "    # output new value function samped at ed\n",
    "    vo = Term1 + Term2 + Term3 + Term4 + Term5 + Term6\n",
    "    return vo\n",
    "\n",
    "\n",
    "def ArbValue(lmp, v, e, P, E, eta, c, N):\n",
    "    \"\"\"\n",
    "        Title: Arbitrage test using value function\n",
    "\n",
    "        lmp: lambda, electricity price over time period t\n",
    "        v: price function\n",
    "        e: SoC\n",
    "        P: P = Pr * Ts; actual power rating taking time step size into account\n",
    "        E: 1\n",
    "        eta: eta = .9; # efficiency\n",
    "        c: c = 10; # marginal discharge cost - degradation\n",
    "        N: number of SOC samples, 1001\n",
    "    \"\"\"\n",
    "\n",
    "    iE = np.ceil((N-1)*e/E).astype(int) # find the nearest SoC index. iE here is 1 smaller than MATLAB.\n",
    "\n",
    "    vF = v.copy() # read the value function\n",
    "    # charge efficiency: iE+1 to end in Matlab, so iE to end here\n",
    "    vF[iE+1 :] = vF[iE+1 :] * eta\n",
    "    # discharge efficiency: 1 to iE-1 in Matlab, so 0 to iE-1 (exclusive) here\n",
    "    vF[0 : iE] = vF[0 : iE] / eta + c\n",
    "\n",
    "    # charge index\n",
    "    if len(np.nonzero(vF >= lmp)[0])>0:\n",
    "        iC = np.max(np.nonzero(vF >= lmp))\n",
    "    else:\n",
    "        iC = None\n",
    "\n",
    "    # discharge index\n",
    "    if len(np.nonzero(vF <= lmp)[0])>0:\n",
    "        iD = np.min(np.nonzero(vF <= lmp))\n",
    "    else:\n",
    "        iD = None\n",
    "\n",
    "    # iF = iC*(iC > iE) + iD*(iD < iE) + iE*(iC <= iE)*(iD >= iE);\n",
    "    if iC is not None:\n",
    "        if iC > iE:\n",
    "            iF = iC\n",
    "        elif iD is not None:\n",
    "            if iD < iE:\n",
    "                iF = iD\n",
    "            else:\n",
    "                iF = iE\n",
    "        else:\n",
    "            iF = iE\n",
    "    elif iD is not None:\n",
    "        if iD < iE:\n",
    "            iF = iD\n",
    "        else:\n",
    "            iF = iE\n",
    "    else:\n",
    "        iF = iE\n",
    "\n",
    "    eF = (iF)/(N-1)*E\n",
    "    eF = max(min(eF, e + P*eta), e-P/eta)\n",
    "    pF = (e-eF)/eta*((e-eF) < 0) + (e-eF)*eta*((e-eF) > 0)\n",
    "    \n",
    "    return eF, pF"
   ]
  },
  {
   "cell_type": "code",
   "execution_count": 4,
   "metadata": {
    "colab": {
     "base_uri": "https://localhost:8080/"
    },
    "id": "SF3BL5d_ARfu",
    "outputId": "98c2d586-1a70-4b14-a93b-31011c834ab2"
   },
   "outputs": [],
   "source": [
    "def generate_value_function(Ts, P, eta, c, ed, ef, Ne, T, num_segment, tlambda):\n",
    "    '''\n",
    "    Generate value function v and dowmsampled value function vAvg\n",
    "    '''\n",
    "\n",
    "    start_time = time.time()\n",
    "\n",
    "    # Set final SoC level\n",
    "    vEnd = np.zeros(Ne)\n",
    "    vEnd[0:math.floor(ef * 1001)] = 1e2 # Use 100 as the penalty for final discharge level\n",
    "\n",
    "    # Define the risk-neutral value function and populate the final column.\n",
    "    # v[0, 0] is the marginal value of 0% SoC at the beginning of day 1, v[Ne, T]is the maringal value of 100% SoC at the beginning of the last operating day\n",
    "    v = np.zeros((Ne, T+1)) # initialize the value function series\n",
    "    v[:, -1] = vEnd  # v.shape == (1001, 210241)\n",
    "\n",
    "    # Process indices: discretize vt by modeling it as an vector v_{t,j} in which each element is associated with equally spaced SoC samples\n",
    "    es = np.arange(start=0, stop=1+ed, step=ed)\n",
    "\n",
    "    # the number of samples is J = 1 + E/ed\n",
    "    Ne = len(es)\n",
    "\n",
    "    # Calculate soc after charge vC = v_t(e+P*eta)\n",
    "    eC = es + P*eta  # [0.0375 0.0385 0.0395 ... 1.0355 1.0365 1.0375]\n",
    "    iC = np.ceil(eC/ed)\n",
    "    iC[iC > (Ne+1)] = Ne + 1\n",
    "    iC[iC < 1] = 0\n",
    "    # print(iC) # [  38.   39.   40. ... 1002. 1002. 1002.]\n",
    "    # print(iC.shape) # (1001,)\n",
    "\n",
    "\n",
    "    # Calculate soc after discharge vC = v_t(e-P/eta)\n",
    "    eD = es - P/eta\n",
    "    iD = np.floor(eD/ed)\n",
    "    iD[iD > (Ne+1)] = Ne + 1\n",
    "    iD[iD < 1] = 0\n",
    "    # print(iD) # [  0.   0.   0. ... 951. 952. 953.]\n",
    "    # print(iD.shape) # (1001,)\n",
    "\n",
    "\n",
    "    # Populate value function\n",
    "    for t in reversed(range(0, T)): # start from the last day and move backwards\n",
    "        vi = v[:, t+1] # input value function of next time stamp\n",
    "        vo = CalcValueNoUnc(tlambda[int(t+24/Ts)], c, P, eta, vi, ed, iC.astype(int), iD.astype(int))\n",
    "        v[:,t] = vo # record the result\n",
    "    # print(v)\n",
    "    # print(v.shape) # (1001, 210241)\n",
    "    # print(np.sum(v)) # 6210425677.739915, MATLAB: 6.2082e+09\n",
    "\n",
    "    end_time = time.time()\n",
    "    print('Time:', end_time - start_time)\n",
    "\n",
    "    # Downsample: https://stackoverflow.com/questions/14916545/numpy-rebinning-a-2d-array\n",
    "    vAvg = v[0:1000, :].reshape([num_segment, int(1000/num_segment), v.shape[1], 1]).mean(3).mean(1)\n",
    "\n",
    "    return v, vAvg"
   ]
  },
  {
   "cell_type": "code",
   "execution_count": 5,
   "metadata": {
    "id": "jpbQAnC40eqW"
   },
   "outputs": [],
   "source": [
    "def generate_train(T, DAP, tlambda, start, stop, lastDay, num_DAP, num_RTP, vAvg):\n",
    "    X_train = np.zeros((T, num_DAP+num_RTP))\n",
    "\n",
    "    # if num_DAP > 0:\n",
    "    # DAP: previous (num_DAP-1) prices + current price\n",
    "    DAP_sub = DAP[::12] # Subsample DAP\n",
    "    lambda_DA_sub = DAP_sub[:, (len(DAP_sub[0])-lastDay+start-2):(len(DAP_sub[0])-lastDay+stop+1)]\n",
    "    tlambda_DA_sub = lambda_DA_sub.flatten('F')\n",
    "    for t in range(T):\n",
    "        X_train[t, 0:num_DAP] = tlambda_DA_sub[int(t/12)+37-num_DAP : int(t/12)+37]\n",
    "\n",
    "    # RTP: Previous (num_RTP-1) prices + current price\n",
    "    for t in range(T):\n",
    "        X_train[t, num_DAP:num_DAP+num_RTP] = tlambda[t+289-num_RTP : t+289]\n",
    "\n",
    "\n",
    "    y_train = vAvg.T[0:T, :]\n",
    "    \n",
    "    print(X_train.shape)\n",
    "    print(y_train.shape)\n",
    "\n",
    "    return X_train, y_train"
   ]
  },
  {
   "cell_type": "code",
   "execution_count": 6,
   "metadata": {
    "id": "4llSMRlKYQPd"
   },
   "outputs": [],
   "source": [
    "def train(X_train, y_train, input_size=60, dense_size=60, output_size=50, activation_fn='relu', epochs=10):\n",
    "    model = tf.keras.Sequential([\n",
    "    tf.keras.layers.InputLayer(input_shape=(input_size,)),\n",
    "        tf.keras.layers.Dense(dense_size, activation=activation_fn),\n",
    "        tf.keras.layers.Dense(dense_size, activation=activation_fn),\n",
    "        tf.keras.layers.Dense(output_size)\n",
    "    ])\n",
    "    print(model.summary())\n",
    "\n",
    "    # Since we are doing regression, we use mean squared error here\n",
    "    model.compile(optimizer='adam',\n",
    "                loss=tf.keras.losses.MeanSquaredError())\n",
    "    model.fit(X_train, y_train, epochs=epochs)\n",
    "    return model"
   ]
  },
  {
   "cell_type": "code",
   "execution_count": 7,
   "metadata": {
    "id": "OiW94PrQ6fdh"
   },
   "outputs": [],
   "source": [
    "def evaluate_using_train():\n",
    "    print(\"=\"*30)\n",
    "    print('Evaluating using X_train')\n",
    "    print(\"=\"*30)\n",
    "    v2 = model.predict(X_train).T\n",
    "    # print(v2.shape) # (20, 210240)\n",
    "    tlambda = RTP[:, (len(RTP[0])-lastDay+start-2):(len(RTP[0])-lastDay+stop+1)] # (288, 731)\n",
    "    tlambda = tlambda.flatten('F')\n",
    "    '''\n",
    "    Plot\n",
    "    '''\n",
    "    # plt.plot(v2[25,0:287], linestyle = 'dotted')\n",
    "    # plt.plot(v[25,0:287], linestyle = 'dotted')\n",
    "    # plt.show()\n",
    "\n",
    "    '''\n",
    "    Perform arbitrage\n",
    "    '''\n",
    "    eS = np.zeros(T) # generate the SoC series\n",
    "    # print(eS.shape)\n",
    "\n",
    "    pS = np.zeros(T) # generate the power series\n",
    "    # print(pS.shape) # (210240,)\n",
    "\n",
    "    e = e0 # initial SoC\n",
    "    # print(e)\n",
    "\n",
    "    for t in range(T-1): # start from the first day and move forwards\n",
    "        vv = v2[:, t+1]\n",
    "        e, p = ArbValue(tlambda[288+t], vv, e, P, 1, eta, c, v2.shape[0])\n",
    "        eS[t] = e # record SoC\n",
    "        pS[t] = p # record Power\n",
    "\n",
    "    ProfitOut = np.sum(pS * tlambda[288:210528]) - np.sum(c * pS[pS>0])\n",
    "    Revenue = np.sum(pS * tlambda[288:210528])\n",
    "    print('ProfitOut:', ProfitOut)\n",
    "    print('Revenue:', Revenue)\n",
    "\n",
    "    return(ProfitOut)"
   ]
  },
  {
   "cell_type": "code",
   "execution_count": 23,
   "metadata": {
    "id": "qcCUPYmaltVn"
   },
   "outputs": [],
   "source": [
    "def evaluate_using_test(model, DAP, RTP, startTest, stopTest, lastDay, num_DAP, num_RTP):\n",
    "    print(\"=\"*30)\n",
    "    print('Evaluating using X_test')\n",
    "    print(\"=\"*30)\n",
    "    # Select dates\n",
    "    startTest = date.toordinal(date(2019, 1, 1)) + 366 - 1\n",
    "    stopTest = date.toordinal(date(2019, 12, 31)) + 366 - 2\n",
    "    T2 = int((stopTest-startTest+1)*24/Ts)\n",
    "\n",
    "    X_test = np.zeros((T2, num_DAP+num_RTP))\n",
    "\n",
    "    # DAP\n",
    "    DAP_sub = DAP[::12]\n",
    "    lambda_DA_sub = DAP_sub[:, (len(DAP_sub[0])-lastDay+startTest-2):(len(DAP_sub[0])-lastDay+stopTest+1)]\n",
    "    tlambda_DA_sub = lambda_DA_sub.flatten('F')\n",
    "\n",
    "    for t in range(T2):\n",
    "        X_test[t, 0:num_DAP] = tlambda_DA_sub[int(t/12)+37-num_DAP : int(t/12)+37]\n",
    "\n",
    "    # RTP\n",
    "    tlambda_RTP_test = RTP[:, (len(RTP[0])-lastDay+startTest-2):(len(RTP[0])-lastDay+stopTest+1)]\n",
    "    tlambda_RTP_test = tlambda_RTP_test.flatten('F')\n",
    "\n",
    "    for t in range(T2):\n",
    "        X_test[t, num_DAP:num_DAP+num_RTP] = tlambda_RTP_test[t+289-num_RTP : t+289]\n",
    "    \n",
    "    # print(len(DAP_sub[0])-lastDay+startTest-2)\n",
    "    # print(len(DAP_sub[0])-lastDay+stopTest+1)\n",
    "    # print(X_test[0])\n",
    "\n",
    "    start_time = time.time()\n",
    "    '''\n",
    "    Predict\n",
    "    '''\n",
    "    v3 = model.predict(X_test)\n",
    "    v3 = v3.T\n",
    "\n",
    "    '''\n",
    "    Perform arbitrage\n",
    "    '''\n",
    "    eS_test = np.zeros(T2) # generate the SoC series\n",
    "    pS_test = np.zeros(T2) # generate the power series\n",
    "    prS_test= np.zeros(T2+1) # generate the profit series\n",
    "    total_profit_test = np.zeros(T2)\n",
    "    e = e0 # initial SoC\n",
    "    \n",
    "    for t in range(T2-1): # start from the first day and move forwards\n",
    "        vv = v3[:, t+1]\n",
    "        e, p = ArbValue(tlambda_RTP_test[288+t], vv, e, P, 1, eta, c, v3.shape[0])\n",
    "        eS_test[t] = e # record SoC\n",
    "        pS_test[t] = p # record Power\n",
    "        prS_test[t] = np.sum(pS_test[t] * tlambda_RTP_test[288+t]) - np.sum(c * max(0,pS_test[t]))\n",
    "        total_profit_test[t] = np.sum(prS_test[0:t])\n",
    "    ProfitOutTest = np.sum(pS_test * tlambda_RTP_test[288:105120]) - np.sum(c * pS_test[pS_test>0])\n",
    "    RevenueTest = np.sum(pS_test * tlambda_RTP_test[288:105120])\n",
    "    DischargeTest = np.sum(pS_test[pS_test>0])\n",
    "    \n",
    "    end_time = time.time()\n",
    "    \n",
    "    A1 = np.reshape(eS_test,len(eS_test)).tolist()\n",
    "    A2 = np.reshape(pS_test,len(pS_test)).tolist()\n",
    "    A3 = np.reshape(prS_test,len(prS_test)).tolist()\n",
    "    A4 = np.reshape(total_profit_test,len(total_profit_test)).tolist()\n",
    "\n",
    "    df = pd.DataFrame({'Power': A1, 'Energy': A2, 'Profit': A3, 'Total Profit': A4})\n",
    "    df.to_csv('result.csv')\n",
    "\n",
    "    print(round(ProfitOutTest))\n",
    "    print(round(RevenueTest))\n",
    "    print(round(((pS_test>0)*pS_test).sum(0)))\n",
    "    print('Time:', end_time - start_time)\n",
    "    return v3, ProfitOutTest\n",
    "#     return v3, ProfitOutTest, RevenueTest, DischargeTest"
   ]
  },
  {
   "cell_type": "markdown",
   "metadata": {
    "id": "HJwPGEL3cxs9"
   },
   "source": [
    "# **Multi Layor Perceptron Regression**\n",
    "\n",
    "- Train on 2017 & 2018, Test on 2019\n",
    "- DAP (t-11 to t+12) and RTP (t-11 to t), 36 features in total\n",
    "- MLP with one hidden layer of 48 neurons, 10 epochs\n",
    "- X_train result: 35949.447319685394, 43289.25433722925\n",
    "- X_test result: 8469.596034343187, 10904.413578202835"
   ]
  },
  {
   "cell_type": "code",
   "execution_count": 9,
   "metadata": {
    "id": "2cVoG4BGGFru"
   },
   "outputs": [],
   "source": [
    "RTP_NYC = np.array(scipy.io.loadmat('G:\\My Drive\\Energy-Storage-MLP\\RTP_NYC_2010_2019.mat')['RTP'])\n",
    "DAP_NYC = np.array(scipy.io.loadmat('G:\\My Drive\\Energy-Storage-MLP\\DAP_NYC_2010_2019.mat')['DAP'])\n",
    "RTP_LONGIL = np.array(scipy.io.loadmat('G:\\My Drive\\Energy-Storage-MLP\\RTP_LONGIL_2010_2019.mat')['RTP'])\n",
    "DAP_LONGIL = np.array(scipy.io.loadmat('G:\\My Drive\\Energy-Storage-MLP\\DAP_LONGIL_2010_2019.mat')['DAP'])\n",
    "RTP_NORTH = np.array(scipy.io.loadmat('G:\\My Drive\\Energy-Storage-MLP\\RTP_NORTH_2010_2019.mat')['RTP'])\n",
    "DAP_NORTH = np.array(scipy.io.loadmat('G:\\My Drive\\Energy-Storage-MLP\\DAP_NORTH_2010_2019.mat')['DAP'])\n",
    "RTP_WEST = np.array(scipy.io.loadmat('G:\\My Drive\\Energy-Storage-MLP\\RTP_WEST_2010_2019.mat')['RTP'])\n",
    "DAP_WEST = np.array(scipy.io.loadmat('G:\\My Drive\\Energy-Storage-MLP\\DAP_WEST_2010_2019.mat')['DAP'])\n",
    "\n",
    "RTP_WALNUT = np.array(scipy.io.loadmat('G:\\My Drive\\Energy-Storage-MLP\\WALNUT.mat')['Q'])\n",
    "RTP_WESTLNDS = np.array(scipy.io.loadmat('G:\\My Drive\\Energy-Storage-MLP\\WESTLNDS.mat')['Q'])\n",
    "RTP_WHITMORE = np.array(scipy.io.loadmat('G:\\My Drive\\Energy-Storage-MLP\\WHITMORE.mat')['Q'])\n",
    "\n",
    "RTP = RTP_NYC\n",
    "DAP = DAP_NYC\n",
    "\n",
    "# RTP = RTP_LONGIL\n",
    "# DAP = DAP_LONGIL\n",
    "\n",
    "\n",
    "# RTP = RTP_NORTH\n",
    "# DAP = DAP_NORTH\n",
    "\n",
    "# RTP = RTP_WEST\n",
    "# DAP = DAP_WEST\n",
    "\n",
    "# RTP = RTP_WALNUT\n",
    "# DAP = RTP_WALNUT"
   ]
  },
  {
   "cell_type": "code",
   "execution_count": 10,
   "metadata": {
    "colab": {
     "base_uri": "https://localhost:8080/"
    },
    "id": "42198c7akdJ3",
    "outputId": "4a6c4cf3-fe17-4f7f-b23c-1919703a6d0d"
   },
   "outputs": [
    {
     "name": "stdout",
     "output_type": "stream",
     "text": [
      "2556\n",
      "3288\n",
      "(288, 732)\n"
     ]
    }
   ],
   "source": [
    "'''\n",
    "Select dates: The data ends on 2019/12/31. We take the data range 2017/1/1 to 2018/12/31\n",
    "'''\n",
    "\n",
    "Ts = 1/12 # time step: 5min\n",
    "\n",
    "# Last day for New England\n",
    "lastDay = date.toordinal(date(2019, 12, 31)) + 366 - 1 # 737789, MATLAB: 737790\n",
    "# Last day for California\n",
    "# lastDay = date.toordinal(date(2021, 12, 31)) + 366 - 1 # 737789, MATLAB: 737790\n",
    "\n",
    "start = date.toordinal(date(2017, 1, 1)) + 366 - 1 # 736695, MATLAB: 736696\n",
    "stop = date.toordinal(date(2018, 12, 31)) + 366 - 1 # 737424, MATLAB: 737425\n",
    "\n",
    "T = int((stop-start+1)*24/Ts) # T: 210240, MATLAB: 210240\n",
    "\n",
    "# tlambda: real time price over time period t\n",
    "tlambda = RTP[:, (len(RTP[0])-lastDay+start-2):(len(RTP[0])-lastDay+stop+1)] # (288, 731)\n",
    "tlambda = tlambda.flatten('F')\n",
    "# tlambda_DA: day ahead price over time period t\n",
    "tlambda_DA = DAP[:, (len(DAP[0])-lastDay+start-2):(len(DAP[0])-lastDay+stop+1)] # (288, 731)\n",
    "print(len(DAP[0])-lastDay+start-2)\n",
    "print(len(DAP[0])-lastDay+stop+1)\n",
    "print(tlambda_DA.shape)\n",
    "tlambda_DA = tlambda_DA.flatten('F') # (210528,)\n",
    "\n",
    "\n",
    "'''\n",
    "Set parameters\n",
    "'''\n",
    "Pr = 0.5  # normalized power rating wrt energy rating (highest power input allowed to flow through particular equipment)\n",
    "P = Pr*Ts  # actual power rating taking time step size into account, 0.5*1/12 = 0.041666666666666664\n",
    "eta = 1.0  # efficiency\n",
    "c = 10  # marginal discharge cost - degradation\n",
    "ed = .001  # SoC sample granularity\n",
    "ef = .5  # final SoC target level, use 0 if none (ensure that electric vehicles are sufficiently charged at the end of the period)\n",
    "Ne = math.floor(1/ed)+1  # number of SOC samples, (1/0.001)+1=1001\n",
    "e0 = .5  # Beginning SoC level\n",
    "\n",
    "\n",
    "'''\n",
    "Downsample settings\n",
    "'''\n",
    "num_segment = 50"
   ]
  },
  {
   "cell_type": "code",
   "execution_count": 11,
   "metadata": {},
   "outputs": [
    {
     "name": "stdout",
     "output_type": "stream",
     "text": [
      "Time: 29.043949604034424\n"
     ]
    }
   ],
   "source": [
    "v, vAvg = generate_value_function(Ts, P, eta, c, ed, ef, Ne, T, num_segment, tlambda)"
   ]
  },
  {
   "cell_type": "code",
   "execution_count": 12,
   "metadata": {
    "colab": {
     "base_uri": "https://localhost:8080/"
    },
    "id": "Q5DjSiqBAhIU",
    "outputId": "6bc78045-93b4-4766-80ad-a67a6b418dd4"
   },
   "outputs": [
    {
     "name": "stdout",
     "output_type": "stream",
     "text": [
      "737425\n",
      "737788\n"
     ]
    }
   ],
   "source": [
    "startTest = date.toordinal(date(2019, 1, 1)) + 366 - 1\n",
    "stopTest = date.toordinal(date(2019, 12, 31)) + 366 - 2\n",
    "print(startTest)\n",
    "print(stopTest)"
   ]
  },
  {
   "cell_type": "code",
   "execution_count": 24,
   "metadata": {
    "colab": {
     "base_uri": "https://localhost:8080/"
    },
    "id": "C2jRQnNe_VNS",
    "outputId": "46d630e3-b58a-4a3d-f114-228b8352eee6"
   },
   "outputs": [
    {
     "name": "stdout",
     "output_type": "stream",
     "text": [
      "(210240, 60)\n",
      "(210240, 50)\n",
      "Model: \"sequential_4\"\n",
      "_________________________________________________________________\n",
      " Layer (type)                Output Shape              Param #   \n",
      "=================================================================\n",
      " dense_12 (Dense)            (None, 60)                3660      \n",
      "                                                                 \n",
      " dense_13 (Dense)            (None, 60)                3660      \n",
      "                                                                 \n",
      " dense_14 (Dense)            (None, 50)                3050      \n",
      "                                                                 \n",
      "=================================================================\n",
      "Total params: 10,370\n",
      "Trainable params: 10,370\n",
      "Non-trainable params: 0\n",
      "_________________________________________________________________\n",
      "None\n",
      "Epoch 1/10\n",
      "6570/6570 [==============================] - 4s 636us/step - loss: 237.7460\n",
      "Epoch 2/10\n",
      "6570/6570 [==============================] - 4s 669us/step - loss: 201.4572\n",
      "Epoch 3/10\n",
      "6570/6570 [==============================] - 4s 631us/step - loss: 196.7918\n",
      "Epoch 4/10\n",
      "6570/6570 [==============================] - 4s 625us/step - loss: 193.6891\n",
      "Epoch 5/10\n",
      "6570/6570 [==============================] - 4s 611us/step - loss: 191.0471\n",
      "Epoch 6/10\n",
      "6570/6570 [==============================] - 4s 616us/step - loss: 188.1928\n",
      "Epoch 7/10\n",
      "6570/6570 [==============================] - 4s 616us/step - loss: 188.2216\n",
      "Epoch 8/10\n",
      "6570/6570 [==============================] - 4s 620us/step - loss: 183.6820\n",
      "Epoch 9/10\n",
      "6570/6570 [==============================] - 4s 627us/step - loss: 183.5596\n",
      "Epoch 10/10\n",
      "6570/6570 [==============================] - 4s 637us/step - loss: 181.7465\n",
      "INFO:tensorflow:Assets written to: G:\\My Drive\\Energy-Storage-MLP\\DAP24-RTP36\\eta1\\NYC-Model\\model0\\assets\n",
      "==============================\n",
      "Evaluating using X_train\n",
      "==============================\n",
      "ProfitOut: 45840.3325170068\n",
      "Revenue: 56773.94646258502\n",
      "NYC:\n",
      "==============================\n",
      "Evaluating using X_test\n",
      "==============================\n",
      "11617\n",
      "15291\n",
      "367\n",
      "Time: 9.15606141090393\n"
     ]
    }
   ],
   "source": [
    "num_DAP = 24\n",
    "num_RTP = 36\n",
    "num_neurons = 60\n",
    "num_epochs = 10\n",
    "num_model = 1\n",
    "profit = np.zeros([num_model,5])\n",
    "\n",
    "for i in range(num_model):\n",
    "  tf.keras.utils.set_random_seed(i)\n",
    "  tf.random.set_seed(i)\n",
    "  # tf.config.experimental.enable_op_determinism()\n",
    "  X_train, y_train = generate_train(T, DAP, tlambda, start, stop, lastDay, num_DAP, num_RTP, vAvg)\n",
    "  model = train(X_train, y_train, num_DAP+num_RTP, num_neurons, num_segment, 'relu', num_epochs)\n",
    "  model.save('G:\\\\My Drive\\\\Energy-Storage-MLP\\\\DAP24-RTP36\\\\eta1\\\\NYC-Model\\\\model%s'%i)\n",
    "\n",
    "  train_profit = evaluate_using_train()\n",
    "\n",
    "  print('NYC:')\n",
    "  v1_NYC, test_profit_nyc = evaluate_using_test(model, DAP_NYC, RTP_NYC, startTest, stopTest, lastDay, num_DAP, num_RTP)\n",
    "#   print('\\nLONGIL:')\n",
    "#   v1_LONGIL, test_profit_longil = evaluate_using_test(model, DAP_LONGIL, RTP_LONGIL, startTest, stopTest, lastDay, num_DAP, num_RTP)\n",
    "#   print('\\nNORTH:')\n",
    "#   v1_NORTH, test_profit_north = evaluate_using_test(model, DAP_NORTH, RTP_NORTH, startTest, stopTest, lastDay, num_DAP, num_RTP)\n",
    "#   print('\\nWEST:')\n",
    "#   v1_WEST, test_profit_west = evaluate_using_test(model, DAP_WEST, RTP_WEST, startTest, stopTest, lastDay, num_DAP, num_RTP)\n",
    "#   profit[i,0] = train_profit\n",
    "#   profit[i,1] = test_profit_nyc\n",
    "#   profit[i,2] = test_profit_longil\n",
    "#   profit[i,3] = test_profit_north\n",
    "#   profit[i,4] = test_profit_west\n",
    "\n",
    "# profit_df = pd.DataFrame(profit, columns=['Training profit', 'Testing profit NYC', 'Testing profit LONGIL', 'Testing profit NORTH', 'Testing profit WEST'])\n",
    "# profit_df.to_csv('G:\\\\My Drive\\\\Energy-Storage-MLP\\\\DAP24-RTP36\\\\NYC-Model\\\\profit.csv')"
   ]
  },
  {
   "cell_type": "code",
   "execution_count": null,
   "metadata": {
    "colab": {
     "base_uri": "https://localhost:8080/"
    },
    "id": "IttgBYAtQWLo",
    "outputId": "0306a814-a19b-4f3f-bb43-01cdc6f78146"
   },
   "outputs": [],
   "source": [
    "num_DAP = 0\n",
    "num_RTP = 36\n",
    "num_neurons = 60\n",
    "num_epochs = 10\n",
    "num_model = 10\n",
    "profit = np.zeros([num_model,2])\n",
    "\n",
    "for i in range(num_model):\n",
    "  tf.keras.utils.set_random_seed(i)\n",
    "  tf.random.set_seed(i)\n",
    "  X_train, y_train = generate_train(T, DAP, tlambda, start, stop, lastDay, num_DAP, num_RTP, vAvg)\n",
    "  model = train(X_train, y_train, num_DAP+num_RTP, num_neurons, num_segment, 'relu', num_epochs)\n",
    "  model.save('G:\\\\My Drive\\\\Energy-Storage-MLP\\\\DAP0-RTP36\\\\NYC-Model\\\\model%s'%i)\n",
    "  train_profit = evaluate_using_train()\n",
    "\n",
    "  print('NYC:')\n",
    "  v2_NYC, test_profit = evaluate_using_test(model, DAP_NYC, RTP_NYC, startTest, stopTest, lastDay, num_DAP, num_RTP)\n",
    "#   print('\\nLONGIL:')\n",
    "#   v2_LONGIL, test_profit = evaluate_using_test(model, DAP_LONGIL, RTP_LONGIL, startTest, stopTest, lastDay, num_DAP, num_RTP)\n",
    "#   print('\\nNORTH:')\n",
    "#   v2_NORTH, test_profit = evaluate_using_test(model, DAP_NORTH, RTP_NORTH, startTest, stopTest, lastDay, num_DAP, num_RTP)\n",
    "#   print('\\nWEST:')\n",
    "#   v2_WEST, test_profit = evaluate_using_test(model, DAP_WEST, RTP_WEST, startTest, stopTest, lastDay, num_DAP, num_RTP)\n",
    "  profit[i,0] = train_profit\n",
    "  profit[i,1] = test_profit\n",
    "profit_df = pd.DataFrame(profit, columns=['Training profit', 'Testing profit'])\n",
    "profit_df.to_csv('G:\\\\My Drive\\\\Energy-Storage-MLP\\\\DAP0-RTP36\\\\NYC-Model\\\\profit.csv')"
   ]
  },
  {
   "cell_type": "code",
   "execution_count": null,
   "metadata": {
    "colab": {
     "base_uri": "https://localhost:8080/"
    },
    "id": "wx2FK-9c6HYC",
    "outputId": "ba8b88b0-60f0-45dc-90b2-2e4a2da9f8b7"
   },
   "outputs": [],
   "source": [
    "num_DAP = 0\n",
    "num_RTP = 288\n",
    "num_neurons = 256\n",
    "num_epochs = 20\n",
    "num_model = 10\n",
    "profit = np.zeros([num_model,2])\n",
    "\n",
    "for i in range(num_model):\n",
    "  tf.keras.utils.set_random_seed(i)\n",
    "  tf.random.set_seed(i)\n",
    "  X_train, y_train = generate_train(T, DAP, tlambda, start, stop, lastDay, num_DAP, num_RTP, vAvg)\n",
    "  model = train(X_train, y_train, num_DAP+num_RTP, num_neurons, num_segment, 'relu', num_epochs)\n",
    "  model.save('G:\\\\My Drive\\\\Energy-Storage-MLP\\\\DAP0-RTP288\\\\NYC-Model\\\\model%s'%i)\n",
    "\n",
    "  train_profit = evaluate_using_train()\n",
    "\n",
    "  print('NYC:')\n",
    "  v3_NYC, test_profit = evaluate_using_test(model, DAP_NYC, RTP_NYC, startTest, stopTest, lastDay, num_DAP, num_RTP)\n",
    "#   print('\\nLONGIL:')\n",
    "#   v3_LONGIL = evaluate_using_test(model, DAP_LONGIL, RTP_LONGIL, startTest, stopTest, lastDay, num_DAP, num_RTP)\n",
    "#   print('\\nNORTH:')\n",
    "#   v3_NORTH, test_profit  = evaluate_using_test(model, DAP_NORTH, RTP_NORTH, startTest, stopTest, lastDay, num_DAP, num_RTP)\n",
    "#   print('\\nWEST:')\n",
    "#   v3_WEST, test_profit  = evaluate_using_test(model, DAP_WEST, RTP_WEST, startTest, stopTest, lastDay, num_DAP, num_RTP)\n",
    "  profit[i,0] = train_profit\n",
    "  profit[i,1] = test_profit\n",
    "profit_df = pd.DataFrame(profit, columns=['Training profit', 'Testing profit'])\n",
    "profit_df.to_csv('G:\\\\My Drive\\\\Energy-Storage-MLP\\\\DAP0-RTP288\\\\NYC-Model\\\\profit.csv')"
   ]
  },
  {
   "cell_type": "code",
   "execution_count": null,
   "metadata": {
    "colab": {
     "base_uri": "https://localhost:8080/"
    },
    "id": "WOJPMqBuCZ-x",
    "outputId": "74e3934a-8065-487f-f7bb-57b626aab892"
   },
   "outputs": [],
   "source": [
    "num_DAP = 24\n",
    "num_RTP = 288\n",
    "num_neurons = 256\n",
    "num_epochs = 20\n",
    "num_model = 10\n",
    "profit = np.zeros([num_model,2])\n",
    "\n",
    "for i in range(num_model):\n",
    "  tf.keras.utils.set_random_seed(i)\n",
    "  tf.random.set_seed(i)\n",
    "  X_train, y_train = generate_train(T, DAP, tlambda, start, stop, lastDay, num_DAP, num_RTP, vAvg)\n",
    "  model = train(X_train, y_train, num_DAP+num_RTP, num_neurons, num_segment, 'relu', num_epochs)\n",
    "  model.save('G:\\\\My Drive\\\\Energy-Storage-MLP\\\\DAP24-RTP288\\\\NYC-Model\\\\model%s'%i)\n",
    "\n",
    "  train_profit = evaluate_using_train()\n",
    "\n",
    "  print('NYC:')\n",
    "  v4_NYC, test_profit = evaluate_using_test(model, DAP_NYC, RTP_NYC, startTest, stopTest, lastDay, num_DAP, num_RTP)\n",
    "#   print('\\nLONGIL:')\n",
    "#   v4_LONGIL, test_profit = evaluate_using_test(model, DAP_LONGIL, RTP_LONGIL, startTest, stopTest, lastDay, num_DAP, num_RTP)\n",
    "#   print('\\nNORTH:')\n",
    "#   v4_NORTH, test_profit = evaluate_using_test(model, DAP_NORTH, RTP_NORTH, startTest, stopTest, lastDay, num_DAP, num_RTP)\n",
    "#   print('\\nWEST:')\n",
    "#   v4_WEST, test_profit = evaluate_using_test(model, DAP_WEST, RTP_WEST, startTest, stopTest, lastDay, num_DAP, num_RTP)\n",
    "  profit[i,0] = train_profit\n",
    "  profit[i,1] = test_profit\n",
    "profit_df = pd.DataFrame(profit, columns=['Training profit', 'Testing profit'])\n",
    "profit_df.to_csv('G:\\\\My Drive\\\\Energy-Storage-MLP\\\\DAP24-RTP288\\\\NYC-Model\\\\profit.csv')"
   ]
  },
  {
   "cell_type": "code",
   "execution_count": null,
   "metadata": {
    "id": "Zrw9fS-hQdpQ"
   },
   "outputs": [],
   "source": [
    "# Generate value function for 2019\n",
    "def generate_value_function_test(DAP, RTP):\n",
    "    test_start = date.toordinal(date(2019, 1, 1)) + 366 - 1\n",
    "    test_stop = date.toordinal(date(2019, 12, 31)) + 366 - 1\n",
    "\n",
    "    T = int((test_stop-test_start+1)*24/Ts)\n",
    "\n",
    "    testlambda = RTP[:, (len(RTP[0])-lastDay+test_start-2):(len(RTP[0])-lastDay+test_stop+1)]\n",
    "    testlambda = testlambda.flatten('F')\n",
    "    testlambda_DA = DAP[:, (len(DAP[0])-lastDay+test_start-2):(len(DAP[0])-lastDay+test_stop+1)]\n",
    "    testlambda_DA = tlambda_DA.flatten('F') # (210528,)\n",
    "\n",
    "    Pr = 0.5  # normalized power rating wrt energy rating (highest power input allowed to flow through particular equipment)\n",
    "    P = Pr*Ts  # actual power rating taking time step size into account, 0.5*1/12 = 0.041666666666666664\n",
    "    eta = .9  # efficiency\n",
    "    c = 30  # marginal discharge cost - degradation\n",
    "    ed = .001  # SoC sample granularity\n",
    "    ef = .5  # final SoC target level, use 0 if none (ensure that electric vehicles are sufficiently charged at the end of the period)\n",
    "    Ne = math.floor(1/ed)+1  # number of SOC samples, (1/0.001)+1=1001\n",
    "    e0 = .5  # Beginning SoC level\n",
    "\n",
    "    num_segment = 50\n",
    "\n",
    "    vEnd = np.zeros(Ne)\n",
    "    vEnd[0:math.floor(ef * 1001)] = 1e2 # Use 100 as the penalty for final discharge level\n",
    "\n",
    "    v = np.zeros((Ne, T+1)) # initialize the value function series\n",
    "    v[:, -1] = vEnd  # v.shape == (1001, 210241)\n",
    "\n",
    "    es = np.arange(start=0, stop=1+ed, step=ed)\n",
    "\n",
    "    Ne = len(es)\n",
    "\n",
    "    eC = es + P*eta\n",
    "    iC = np.ceil(eC/ed)\n",
    "    iC[iC > (Ne+1)] = Ne + 1\n",
    "    iC[iC < 1] = 0\n",
    "\n",
    "    eD = es - P/eta\n",
    "    iD = np.floor(eD/ed)\n",
    "    iD[iD > (Ne+1)] = Ne + 1\n",
    "    iD[iD < 1] = 0\n",
    "\n",
    "\n",
    "    for t in reversed(range(0, T)): # start from the last day and move backwards\n",
    "        vi = v[:, t+1] # input value function of next time stamp\n",
    "        vo = CalcValueNoUnc(testlambda[int(t+24/Ts)], c, P, eta, vi, ed, iC.astype(int), iD.astype(int))\n",
    "        v[:,t] = vo # record the result\n",
    "\n",
    "    vAvg = v[0:1000, :].reshape([num_segment, int(1000/num_segment), v.shape[1], 1]).mean(3).mean(1)\n",
    "    return vAvg\n",
    "\n",
    "vAvg_NYC = generate_value_function_test(DAP_NYC, RTP_NYC)\n",
    "vAvg_LONGIL = generate_value_function_test(DAP_LONGIL, RTP_LONGIL)\n",
    "vAvg_NORTH = generate_value_function_test(DAP_NORTH, RTP_NORTH)\n",
    "vAvg_WEST = generate_value_function_test(DAP_WEST, RTP_WEST)"
   ]
  },
  {
   "cell_type": "code",
   "execution_count": null,
   "metadata": {
    "id": "-_PtJSecXpSE"
   },
   "outputs": [],
   "source": [
    "vAvg_NYC = vAvg_NYC[:,0:104832]\n",
    "vAvg_LONGIL = vAvg_LONGIL[:,0:104832]\n",
    "vAvg_NORTH = vAvg_NORTH[:,0:104832]\n",
    "vAvg_WEST = vAvg_WEST[:,0:104832]"
   ]
  },
  {
   "cell_type": "code",
   "execution_count": null,
   "metadata": {},
   "outputs": [],
   "source": [
    "RTP = RTP_WEST\n",
    "v3=vAvg_WEST\n",
    "c = 30\n",
    "Pr = 0.5\n",
    "P = Pr*Ts\n",
    "eta = .9  # efficiency\n",
    "ed = .001  # SoC sample granularity\n",
    "ef = .5  # final SoC target level, use 0 if none (ensure that electric vehicles are sufficiently charged at the end of the period)\n",
    "Ne = math.floor(1/ed)+1  # number of SOC samples, (1/0.001)+1=1001\n",
    "e0 = .5  # Beginning SoC level\n",
    "startTest = date.toordinal(date(2019, 1, 1)) + 366 - 1\n",
    "stopTest = date.toordinal(date(2019, 12, 31)) + 366 - 2\n",
    "T2 = int((stopTest-startTest+1)*24/Ts)\n",
    "tlambda_RTP_test = RTP[:, (len(RTP[0])-lastDay+startTest-2):(len(RTP[0])-lastDay+stopTest+1)]\n",
    "tlambda_RTP_test = tlambda_RTP_test.flatten('F')\n",
    "eS_test = np.zeros(T2) # generate the SoC series\n",
    "pS_test = np.zeros(T2) # generate the power series\n",
    "e = e0 # initial SoC\n",
    "for t in range(T2-1): # start from the first day and move forwards\n",
    "    vv = v3[:, t+1]\n",
    "    e, p = ArbValue(tlambda_RTP_test[288+t], vv, e, P, 1, eta, c, v3.shape[0])\n",
    "    eS_test[t] = e # record SoC\n",
    "    pS_test[t] = p # record Power\n",
    "ProfitOutTest = np.sum(pS_test * tlambda_RTP_test[288:105120]) - np.sum(c * pS_test[pS_test>0])\n",
    "ProfitOutTest"
   ]
  },
  {
   "cell_type": "code",
   "execution_count": null,
   "metadata": {
    "colab": {
     "base_uri": "https://localhost:8080/"
    },
    "id": "uYbhO2qq1iqH",
    "outputId": "00dbb464-4e23-46d4-d2b9-34c99f89439a"
   },
   "outputs": [],
   "source": [
    "Ts = 1/12 # time step: 5min\n",
    "num_DAP = 24\n",
    "num_RTP = 36\n",
    "num_segment = 50\n",
    "RTP = RTP_WEST\n",
    "DAP = DAP_WEST\n",
    "lastDay = date.toordinal(date(2019, 12, 31)) + 366 - 1 # 737789, MATLAB: 737790\n",
    "start = date.toordinal(date(2017, 1, 1)) + 366 - 1 # 736695, MATLAB: 736696\n",
    "stop = date.toordinal(date(2018, 12, 31)) + 366 - 1 # 737424, MATLAB: 737425\n",
    "startTest = date.toordinal(date(2019, 1, 1)) + 366 - 1\n",
    "stopTest = date.toordinal(date(2019, 12, 31)) + 366 - 2\n",
    "# profit = np.zeros([10,2])\n",
    "c = 50\n",
    "Pr = 1\n",
    "P = Pr*Ts\n",
    "eta = .9  # efficiency\n",
    "ed = .001  # SoC sample granularity\n",
    "ef = .5  # final SoC target level, use 0 if none (ensure that electric vehicles are sufficiently charged at the end of the period)\n",
    "Ne = math.floor(1/ed)+1  # number of SOC samples, (1/0.001)+1=1001\n",
    "e0 = .5  # Beginning SoC level\n",
    "i = 1\n",
    "# for i in range(10):\n",
    "# v, vAvg = generate_value_function(Ts, P, eta, c, ed, ef, Ne, T, num_segment, tlambda)\n",
    "# tf.keras.utils.set_random_seed(i)\n",
    "# tf.random.set_seed(i)\n",
    "# X_train, y_train = generate_train(T, DAP, tlambda, start, stop, lastDay, num_DAP, num_RTP, vAvg)\n",
    "# model = tf.keras.models.load_model('G:\\\\My Drive\\\\Energy-Storage-MLP\\\\ES-Paras\\\\WEST-Model\\\\P0.020833333333333332_c50\\\\model%s'%i)\n",
    "# model = tf.keras.models.load_model('G:\\\\My Drive\\\\Energy-Storage-MLP\\\\ES-Paras\\\\WEST-Model\\\\P0.041666666666666664_c0\\\\model%s'%i)\n",
    "model = tf.keras.models.load_model('G:\\\\My Drive\\\\Energy-Storage-MLP\\\\ES-Paras\\\\WEST-Model\\\\P0.08333333333333333_c50\\\\model%s'%i)\n",
    "# train_profit = evaluate_using_train()\n",
    "v1_NYC, test_profit, test_revenue, test_discharge = evaluate_using_test(model, DAP, RTP, startTest, stopTest, lastDay, num_DAP, num_RTP)\n",
    "  # mse = ((vAvg_NYC - v1_NYC)**2).mean(axis=None)\n",
    "  # print(mse)\n",
    "#   profit[i,0] = train_profit\n",
    "#   profit[i,1] = test_profit\n",
    "# profit_df = pd.DataFrame(profit, columns=['Training profit', 'Testing profit']) \n",
    "# profit_df.to_csv('G:\\\\My Drive\\\\Energy-Storage-MLP\\\\DAP0-RTP288\\\\LONGIL-Model\\\\profit2.csv')\n"
   ]
  },
  {
   "cell_type": "code",
   "execution_count": null,
   "metadata": {},
   "outputs": [],
   "source": [
    "print(test_profit)\n",
    "print(test_revenue)\n",
    "print(test_discharge)"
   ]
  },
  {
   "cell_type": "markdown",
   "metadata": {},
   "source": [
    "# **ES Parameters Sensitivity Analysis**"
   ]
  },
  {
   "cell_type": "code",
   "execution_count": null,
   "metadata": {},
   "outputs": [],
   "source": [
    "RTP_NYC = np.array(scipy.io.loadmat('G:\\My Drive\\Energy-Storage-MLP\\RTP_NYC_2010_2019.mat')['RTP'])\n",
    "DAP_NYC = np.array(scipy.io.loadmat('G:\\My Drive\\Energy-Storage-MLP\\DAP_NYC_2010_2019.mat')['DAP'])\n",
    "RTP_LONGIL = np.array(scipy.io.loadmat('G:\\My Drive\\Energy-Storage-MLP\\RTP_LONGIL_2010_2019.mat')['RTP'])\n",
    "DAP_LONGIL = np.array(scipy.io.loadmat('G:\\My Drive\\Energy-Storage-MLP\\DAP_LONGIL_2010_2019.mat')['DAP'])\n",
    "RTP_NORTH = np.array(scipy.io.loadmat('G:\\My Drive\\Energy-Storage-MLP\\RTP_NORTH_2010_2019.mat')['RTP'])\n",
    "DAP_NORTH = np.array(scipy.io.loadmat('G:\\My Drive\\Energy-Storage-MLP\\DAP_NORTH_2010_2019.mat')['DAP'])\n",
    "RTP_WEST = np.array(scipy.io.loadmat('G:\\My Drive\\Energy-Storage-MLP\\RTP_WEST_2010_2019.mat')['RTP'])\n",
    "DAP_WEST = np.array(scipy.io.loadmat('G:\\My Drive\\Energy-Storage-MLP\\DAP_WEST_2010_2019.mat')['DAP'])\n",
    "\n",
    "RTP_WALNUT = np.array(scipy.io.loadmat('G:\\My Drive\\Energy-Storage-MLP\\WALNUT.mat')['Q'])\n",
    "RTP_WESTLNDS = np.array(scipy.io.loadmat('G:\\My Drive\\Energy-Storage-MLP\\WESTLNDS.mat')['Q'])\n",
    "RTP_WHITMORE = np.array(scipy.io.loadmat('G:\\My Drive\\Energy-Storage-MLP\\WHITMORE.mat')['Q'])\n",
    "\n",
    "RTP = RTP_NYC\n",
    "DAP = DAP_NYC\n",
    "\n",
    "# RTP = RTP_LONGIL\n",
    "# DAP = DAP_LONGIL\n",
    "\n",
    "\n",
    "# RTP = RTP_NORTH\n",
    "# DAP = DAP_NORTH\n",
    "\n",
    "# RTP = RTP_WEST\n",
    "# DAP = DAP_WEST\n",
    "\n",
    "# RTP = RTP_WALNUT\n",
    "# DAP = RTP_WALNUT"
   ]
  },
  {
   "cell_type": "code",
   "execution_count": null,
   "metadata": {},
   "outputs": [],
   "source": [
    "'''\n",
    "Select dates: The data ends on 2019/12/31. We take the data range 2017/1/1 to 2018/12/31\n",
    "'''\n",
    "\n",
    "Ts = 1/12 # time step: 5min\n",
    "\n",
    "# Last day for New England\n",
    "lastDay = date.toordinal(date(2019, 12, 31)) + 366 - 1 # 737789, MATLAB: 737790\n",
    "# Last day for California\n",
    "# lastDay = date.toordinal(date(2021, 12, 31)) + 366 - 1 # 737789, MATLAB: 737790\n",
    "\n",
    "start = date.toordinal(date(2017, 1, 1)) + 366 - 1 # 736695, MATLAB: 736696\n",
    "stop = date.toordinal(date(2018, 12, 31)) + 366 - 1 # 737424, MATLAB: 737425\n",
    "\n",
    "T = int((stop-start+1)*24/Ts) # T: 210240, MATLAB: 210240\n",
    "\n",
    "# tlambda: real time price over time period t\n",
    "tlambda = RTP[:, (len(RTP[0])-lastDay+start-2):(len(RTP[0])-lastDay+stop+1)] # (288, 731)\n",
    "tlambda = tlambda.flatten('F')\n",
    "# tlambda_DA: day ahead price over time period t\n",
    "tlambda_DA = DAP[:, (len(DAP[0])-lastDay+start-2):(len(DAP[0])-lastDay+stop+1)] # (288, 731)\n",
    "print(len(DAP[0])-lastDay+start-2)\n",
    "print(len(DAP[0])-lastDay+stop+1)\n",
    "print(tlambda_DA.shape)\n",
    "tlambda_DA = tlambda_DA.flatten('F') # (210528,)\n",
    "\n",
    "\n",
    "'''\n",
    "Set parameters\n",
    "'''\n",
    "Pr = np.array([0.25, 0.5, 1.0])  # normalized power rating wrt energy rating (highest power input allowed to flow through particular equipment)\n",
    "P_list = Pr*Ts  # actual power rating taking time step size into account, 0.5*1/12 = 0.041666666666666664\n",
    "eta = .9  # efficiency\n",
    "c_list = np.array([0, 10, 30, 50])  # marginal discharge cost - degradation\n",
    "ed = .001  # SoC sample granularity\n",
    "ef = .5  # final SoC target level, use 0 if none (ensure that electric vehicles are sufficiently charged at the end of the period)\n",
    "Ne = math.floor(1/ed)+1  # number of SOC samples, (1/0.001)+1=1001\n",
    "e0 = .5  # Beginning SoC level\n",
    "\n",
    "\n",
    "'''\n",
    "Downsample settings\n",
    "'''\n",
    "num_segment = 50"
   ]
  },
  {
   "cell_type": "code",
   "execution_count": null,
   "metadata": {},
   "outputs": [],
   "source": [
    "num_DAP = 24\n",
    "num_RTP = 36\n",
    "num_neurons = 60\n",
    "num_epochs = 10\n",
    "num_model = 10\n",
    "startTest = date.toordinal(date(2019, 1, 1)) + 366 - 1\n",
    "stopTest = date.toordinal(date(2019, 12, 31)) + 366 - 2\n",
    "profit = np.zeros([num_model,2])\n",
    "\n",
    "for P in P_list:\n",
    "    for c in c_list:\n",
    "        v, vAvg = generate_value_function(Ts, P, eta, c, ed, ef, Ne, T, num_segment, tlambda)\n",
    "        for i in range(num_model):\n",
    "            tf.keras.utils.set_random_seed(i)\n",
    "            tf.random.set_seed(i)\n",
    "            # tf.config.experimental.enable_op_determinism()\n",
    "            X_train, y_train = generate_train(T, DAP, tlambda, start, stop, lastDay, num_DAP, num_RTP, vAvg)\n",
    "            model = train(X_train, y_train, num_DAP+num_RTP, num_neurons, num_segment, 'relu', num_epochs)\n",
    "            model.save('G:\\\\My Drive\\\\Energy-Storage-MLP\\\\ES-Paras\\\\NYC-Model\\\\P%s_c%s\\\\model%s'%(P, c, i))\n",
    "\n",
    "            train_profit = evaluate_using_train()\n",
    "\n",
    "            v1, test_profit, test_revenue, test_discharge = evaluate_using_test(model, DAP, RTP, startTest, stopTest, lastDay, num_DAP, num_RTP)\n",
    "          \n",
    "            profit[i,0] = train_profit\n",
    "            profit[i,1] = test_profit           \n",
    "        profit_df = pd.DataFrame(profit, columns=['Training profit', 'Testing profit'])\n",
    "        profit_df.to_csv('G:\\\\My Drive\\\\Energy-Storage-MLP\\\\ES-Paras\\\\NYC-Model\\\\\\\\P%s_c%s\\\\profit.csv'%(P, c))\n"
   ]
  },
  {
   "cell_type": "markdown",
   "metadata": {
    "id": "IJMisCO75P1b"
   },
   "source": [
    "# **Ground Truth**"
   ]
  },
  {
   "cell_type": "markdown",
   "metadata": {
    "id": "wcIg7WExe0sW"
   },
   "source": [
    "## Generate Value Function"
   ]
  },
  {
   "cell_type": "markdown",
   "metadata": {
    "id": "wIN79RKRe4V7"
   },
   "source": [
    "### Select dates"
   ]
  },
  {
   "cell_type": "code",
   "execution_count": 50,
   "metadata": {
    "id": "EmkNZjTD1rxB"
   },
   "outputs": [],
   "source": [
    "Ts = 1/12; # time step\n",
    "DD = 1; # select days to look back"
   ]
  },
  {
   "cell_type": "code",
   "execution_count": 51,
   "metadata": {
    "colab": {
     "base_uri": "https://localhost:8080/"
    },
    "id": "TxOm7izRX1UJ",
    "outputId": "1e711a4e-fef6-436a-e5ac-afcbc60552cf"
   },
   "outputs": [
    {
     "name": "stdout",
     "output_type": "stream",
     "text": [
      "(576,)\n",
      "(576,)\n"
     ]
    }
   ],
   "source": [
    "# lambda: Electricity price over time period t. \n",
    "# In this case it's today and yesterday, so 576 timestamps in total.\n",
    "\n",
    "lmbd = RTP[:, len(RTP[0])-DD-1:len(RTP[0])].flatten('F')\n",
    "lmbd_DA = DAP[:, len(DAP[0])-DD-1:len(DAP[0])].flatten('F')\n",
    "print(lmbd.shape)\n",
    "print(lmbd_DA.shape)"
   ]
  },
  {
   "cell_type": "code",
   "execution_count": 52,
   "metadata": {
    "colab": {
     "base_uri": "https://localhost:8080/"
    },
    "id": "igcMAhUdTAdp",
    "outputId": "053c9159-20e9-44e5-b24b-0b475b301c13"
   },
   "outputs": [
    {
     "name": "stdout",
     "output_type": "stream",
     "text": [
      "576\n"
     ]
    }
   ],
   "source": [
    "# Number of time steps\n",
    "T = len(lmbd)\n",
    "print(T)"
   ]
  },
  {
   "cell_type": "markdown",
   "metadata": {
    "id": "NDVtZIssi28g"
   },
   "source": [
    "### Set parameters"
   ]
  },
  {
   "cell_type": "code",
   "execution_count": 53,
   "metadata": {
    "colab": {
     "base_uri": "https://localhost:8080/"
    },
    "id": "xPB-q5W_aalr",
    "outputId": "81eaafbb-8ae5-439e-e5ce-54b5f95b52c9"
   },
   "outputs": [
    {
     "name": "stdout",
     "output_type": "stream",
     "text": [
      "0.5\n",
      "0.041666666666666664\n",
      "0.9\n",
      "10\n",
      "0.001\n",
      "0.5\n",
      "1001\n",
      "0.5\n"
     ]
    }
   ],
   "source": [
    "Pr = .5; # normalized power rating wrt energy rating (highest power input allowed to flow through particular equipment)\n",
    "P = Pr*Ts; # actual power rating taking time step size into account\n",
    "eta = .9; # efficiency\n",
    "c = 10; # marginal discharge cost - degradation\n",
    "ed = .001; # SoC sample granularity\n",
    "ef = .5; # final SoC target level, use 0 if none (ensure that electric vehicles are sufficiently charged at the end of the period)\n",
    "Ne = math.floor(1/ed)+1; # number of SOC samples\n",
    "e0 = .5; # Beginning SoC level?\n",
    "\n",
    "print(Pr)\n",
    "print(P)\n",
    "print(eta)\n",
    "print(c)\n",
    "print(ed)\n",
    "print(ef)\n",
    "print(Ne)\n",
    "print(e0)"
   ]
  },
  {
   "cell_type": "markdown",
   "metadata": {
    "id": "YA-ll6Gwe_bA"
   },
   "source": [
    "### Generate Value Function"
   ]
  },
  {
   "cell_type": "code",
   "execution_count": 54,
   "metadata": {
    "colab": {
     "base_uri": "https://localhost:8080/"
    },
    "id": "uYh90APdao1O",
    "outputId": "426dafad-5ea8-477c-ef03-e2e1e0772829"
   },
   "outputs": [
    {
     "name": "stdout",
     "output_type": "stream",
     "text": [
      "(1001,)\n",
      "500\n",
      "[100. 100. 100. ...   0.   0.   0.]\n"
     ]
    }
   ],
   "source": [
    "# Generate value function samples\n",
    "vEnd = np.zeros(Ne)\n",
    "print(vEnd.shape)\n",
    "\n",
    "# Use 100 as the penalty for final discharge level\n",
    "vEnd[0:math.floor(ef * 1000)] = 1e2 # vEnd has 100 from position 0 to 499\n",
    "print(math.floor(ef * 1000))\n",
    "print(vEnd)"
   ]
  },
  {
   "cell_type": "markdown",
   "metadata": {
    "id": "yz4MDlqTnAXw"
   },
   "source": [
    "-------"
   ]
  },
  {
   "cell_type": "code",
   "execution_count": 55,
   "metadata": {
    "colab": {
     "base_uri": "https://localhost:8080/"
    },
    "id": "IaZMAoBRzgr3",
    "outputId": "ce45b52a-988d-4d12-ea28-cd54bcd5b717"
   },
   "outputs": [
    {
     "name": "stdout",
     "output_type": "stream",
     "text": [
      "[[  0.   0.   0. ...   0.   0. 100.]\n",
      " [  0.   0.   0. ...   0.   0. 100.]\n",
      " [  0.   0.   0. ...   0.   0. 100.]\n",
      " ...\n",
      " [  0.   0.   0. ...   0.   0.   0.]\n",
      " [  0.   0.   0. ...   0.   0.   0.]\n",
      " [  0.   0.   0. ...   0.   0.   0.]]\n",
      "(1001, 577)\n"
     ]
    }
   ],
   "source": [
    "# TODO: tic\n",
    "\n",
    "# v: the risk-neutral value function\n",
    "# In this case, v is 1001*577. 1001 values for 577 time stamps\n",
    "v = np.zeros((Ne, T+1)) # initialize the value function series\n",
    "\n",
    "# v[0, 0] is the marginal value of 0% SoC at the beginning of day 1\n",
    "# v[Ne, T]is the marginal value of 100% SoC at the beginning of the last operating day\n",
    "\n",
    "v[:, -1] = vEnd\n",
    "\n",
    "print(v)\n",
    "print(v.shape)"
   ]
  },
  {
   "cell_type": "code",
   "execution_count": 56,
   "metadata": {
    "colab": {
     "base_uri": "https://localhost:8080/"
    },
    "id": "Jj5nsr1i2gAo",
    "outputId": "2af38e26-f07b-4e31-c0c3-ce03527ae03c"
   },
   "outputs": [
    {
     "name": "stdout",
     "output_type": "stream",
     "text": [
      "[0.    0.001 0.002 ... 0.998 0.999 1.   ]\n",
      "1001\n"
     ]
    }
   ],
   "source": [
    "# process index\n",
    "# discretize vt by modeling it as an vector v_{t,j} in which each element is associated with equally spaced SoC samples\n",
    "es = np.arange(start=0, stop=1+ed, step=ed)\n",
    "\n",
    "# the number of samples is J = 1 + E/ed\n",
    "Ne = len(es)\n",
    "\n",
    "print(es)\n",
    "print(Ne)"
   ]
  },
  {
   "cell_type": "code",
   "execution_count": 57,
   "metadata": {
    "colab": {
     "base_uri": "https://localhost:8080/"
    },
    "id": "yPhA0hoLCFv-",
    "outputId": "006a2623-0c06-4778-b1a0-0162d0876792"
   },
   "outputs": [
    {
     "name": "stdout",
     "output_type": "stream",
     "text": [
      "[0.0375 0.0385 0.0395 ... 1.0355 1.0365 1.0375]\n",
      "[  38.   39.   40. ... 1036. 1037. 1038.]\n",
      "[  38.   39.   40. ... 1002. 1002. 1002.]\n",
      "[  38.   39.   40. ... 1002. 1002. 1002.]\n",
      "(1001,)\n"
     ]
    }
   ],
   "source": [
    "# calculate soc after charge vC = v_t(e+P*eta)\n",
    "eC = es + P*eta; \n",
    "print(eC)\n",
    "\n",
    "# round to the nearest sample \n",
    "# 0, 1, 2, ... 1001, 1002\n",
    "iC = np.ceil(eC/ed)\n",
    "print(iC)\n",
    "\n",
    "iC[iC > (Ne+1)] = Ne + 1\n",
    "print(iC)\n",
    "\n",
    "iC[iC < 1] = 0\n",
    "print(iC)\n",
    "\n",
    "print(iC.shape)\n",
    "\n",
    "# import matplotlib.pyplot as plt\n",
    "\n",
    "# plt.plot(iC, linestyle = 'dotted')\n",
    "# plt.show()"
   ]
  },
  {
   "cell_type": "code",
   "execution_count": 58,
   "metadata": {
    "colab": {
     "base_uri": "https://localhost:8080/"
    },
    "id": "IqvRWoK9CoT6",
    "outputId": "463e2b3c-6f9c-446f-ad5c-1113e076c821"
   },
   "outputs": [
    {
     "name": "stdout",
     "output_type": "stream",
     "text": [
      "[-0.0462963 -0.0452963 -0.0442963 ...  0.9517037  0.9527037  0.9537037]\n",
      "[-47. -46. -45. ... 951. 952. 953.]\n",
      "[-47. -46. -45. ... 951. 952. 953.]\n",
      "[  0.   0.   0. ... 951. 952. 953.]\n"
     ]
    }
   ],
   "source": [
    "# calculate soc after discharge vC = v_t(e-P/eta)\n",
    "eD = es - P/eta; \n",
    "print(eD)\n",
    "\n",
    "# round to the nearest sample \n",
    "# 0, 1, 2, ... 1001, 1002\n",
    "iD = np.floor(eD/ed)\n",
    "print(iD)\n",
    "\n",
    "iD[iD > (Ne+1)] = Ne + 1\n",
    "print(iD)\n",
    "\n",
    "iD[iD < 1] = 0\n",
    "print(iD)\n",
    "\n",
    "# import matplotlib.pyplot as plt\n",
    "\n",
    "# plt.plot(iD, linestyle = 'dotted')\n",
    "# plt.show()"
   ]
  },
  {
   "cell_type": "code",
   "execution_count": 59,
   "metadata": {
    "colab": {
     "base_uri": "https://localhost:8080/"
    },
    "id": "zBmmZG5QEiMw",
    "outputId": "8d95be0a-b214-466c-a03f-f76cbbe63852"
   },
   "outputs": [
    {
     "name": "stdout",
     "output_type": "stream",
     "text": [
      "[[ 17.3         17.3         17.3        ... 100.         100.\n",
      "  100.        ]\n",
      " [ 17.3         17.3         17.3        ... 100.         100.\n",
      "  100.        ]\n",
      " [ 17.22222222  17.22222222  17.22222222 ... 100.         100.\n",
      "  100.        ]\n",
      " ...\n",
      " [ 11.8         11.8         11.8        ...   0.           0.\n",
      "    0.        ]\n",
      " [ 11.8         11.8         11.8        ...   0.           0.\n",
      "    0.        ]\n",
      " [ 11.8         11.8         11.8        ...   0.           0.\n",
      "    0.        ]]\n",
      "(1001, 577)\n",
      "10805365.297444448\n"
     ]
    }
   ],
   "source": [
    "for t in reversed(range(0, T)): # start from the last day and move backwards\n",
    "    vi = v[:, t+1] # input value function from tomorrow\n",
    "    vo = CalcValueNoUnc(lmbd[t], c, P, eta, vi, ed, iC.astype(int), iD.astype(int))\n",
    "    v[:,t] = vo # record the result \n",
    "\n",
    "print(v)\n",
    "print(v.shape)\n",
    "# 1.0805e+07 for MATLAB\n",
    "print(np.sum(v))"
   ]
  },
  {
   "cell_type": "code",
   "execution_count": null,
   "metadata": {
    "id": "lkjxdRWBUukf"
   },
   "outputs": [],
   "source": [
    "# TODO: tElasped = toc;"
   ]
  },
  {
   "cell_type": "markdown",
   "metadata": {
    "id": "tnmj5KPiGuCg"
   },
   "source": [
    "## Perform Arbitrage"
   ]
  },
  {
   "cell_type": "code",
   "execution_count": 60,
   "metadata": {
    "id": "-Sz8RnOYG60d"
   },
   "outputs": [],
   "source": [
    "eS = np.zeros(T) # generate the SoC series\n",
    "# print(eS.shape)\n",
    "\n",
    "pS = np.zeros(T) # generate the power series\n",
    "# print(eS.shape)\n",
    "\n",
    "e = e0 # initial SoC\n",
    "# print(e)\n",
    "\n",
    "\n",
    "for t in range(T): # start from the first day and move forwards\n",
    "    vv = v[:, t+1] # read the SoC value for this day\n",
    "    e, p = ArbValue(lmbd[t], vv, e, P, 1, eta, c, v.shape[0])\n",
    "    eS[t] = e.copy() # record SoC\n",
    "    pS[t] = p.copy() # record Power"
   ]
  },
  {
   "cell_type": "markdown",
   "metadata": {
    "id": "S6MzQWTMo6Pl"
   },
   "source": [
    "### Results"
   ]
  },
  {
   "cell_type": "code",
   "execution_count": 61,
   "metadata": {
    "colab": {
     "base_uri": "https://localhost:8080/"
    },
    "id": "Ui2o29PSOheJ",
    "outputId": "ecb0a821-de3b-43d9-c0f4-38c00949bb92"
   },
   "outputs": [
    {
     "name": "stdout",
     "output_type": "stream",
     "text": [
      "67.41477544444442\n",
      "79.66044211111108\n"
     ]
    }
   ],
   "source": [
    "# MATLAB: Profit=6.741478e+01, revenue=7.966044e+01>> \n",
    "ProfitOut = np.sum(pS * lmbd) - np.sum(c * pS[pS>0])\n",
    "Revenue = np.sum(pS * lmbd)\n",
    "print(ProfitOut)\n",
    "print(Revenue)"
   ]
  },
  {
   "cell_type": "markdown",
   "metadata": {
    "id": "8VMIgsRnNdKr"
   },
   "source": [
    "# **Ground Truth (yearly)**"
   ]
  },
  {
   "cell_type": "markdown",
   "metadata": {
    "id": "T2Z0-z_boLYt"
   },
   "source": [
    "## Generate Value Function"
   ]
  },
  {
   "cell_type": "markdown",
   "metadata": {
    "id": "EtjUfhvcoPIe"
   },
   "source": [
    "### Select dates"
   ]
  },
  {
   "cell_type": "code",
   "execution_count": 113,
   "metadata": {
    "id": "jgjYGjvFPQIo"
   },
   "outputs": [],
   "source": [
    "RTP_NYC = np.array(scipy.io.loadmat('G:\\My Drive\\Energy-Storage-MLP\\RTP_NYC_2010_2019.mat')['RTP'])\n",
    "DAP_NYC = np.array(scipy.io.loadmat('G:\\My Drive\\Energy-Storage-MLP\\DAP_NYC_2010_2019.mat')['DAP'])\n",
    "RTP_LONGIL = np.array(scipy.io.loadmat('G:\\My Drive\\Energy-Storage-MLP\\RTP_LONGIL_2010_2019.mat')['RTP'])\n",
    "DAP_LONGIL = np.array(scipy.io.loadmat('G:\\My Drive\\Energy-Storage-MLP\\DAP_LONGIL_2010_2019.mat')['DAP'])\n",
    "RTP_NORTH = np.array(scipy.io.loadmat('G:\\My Drive\\Energy-Storage-MLP\\RTP_NORTH_2010_2019.mat')['RTP'])\n",
    "DAP_NORTH = np.array(scipy.io.loadmat('G:\\My Drive\\Energy-Storage-MLP\\DAP_NORTH_2010_2019.mat')['DAP'])\n",
    "RTP_WEST = np.array(scipy.io.loadmat('G:\\My Drive\\Energy-Storage-MLP\\RTP_WEST_2010_2019.mat')['RTP'])\n",
    "DAP_WEST = np.array(scipy.io.loadmat('G:\\My Drive\\Energy-Storage-MLP\\DAP_WEST_2010_2019.mat')['DAP'])\n",
    "\n",
    "RTP_WALNUT = np.array(scipy.io.loadmat('G:\\My Drive\\Energy-Storage-MLP\\WALNUT.mat')['Q'])\n",
    "RTP_WESTLNDS = np.array(scipy.io.loadmat('G:\\My Drive\\Energy-Storage-MLP\\WESTLNDS.mat')['Q'])\n",
    "RTP_WHITMORE = np.array(scipy.io.loadmat('G:\\My Drive\\Energy-Storage-MLP\\WHITMORE.mat')['Q'])\n",
    "\n",
    "\n",
    "# RTP = RTP_NYC\n",
    "# DAP = DAP_NYC\n",
    "\n",
    "# RTP = RTP_LONGIL\n",
    "# DAP = DAP_LONGIL\n",
    "\n",
    "# RTP = RTP_NORTH\n",
    "# DAP = DAP_NORTH\n",
    "\n",
    "RTP = RTP_WEST\n",
    "DAP = DAP_WEST"
   ]
  },
  {
   "cell_type": "code",
   "execution_count": 64,
   "metadata": {
    "id": "TXXZRCxtQwll"
   },
   "outputs": [],
   "source": [
    "Ts = 1/12; # time step: 5min"
   ]
  },
  {
   "cell_type": "code",
   "execution_count": 106,
   "metadata": {
    "colab": {
     "base_uri": "https://localhost:8080/"
    },
    "id": "16_gMMiOQxhK",
    "outputId": "5fa84e93-e6e4-4edb-d7a0-5760a5715374"
   },
   "outputs": [
    {
     "name": "stdout",
     "output_type": "stream",
     "text": [
      "737789\n",
      "737425\n",
      "737789\n"
     ]
    }
   ],
   "source": [
    "lastDay = date.toordinal(date(2019, 12, 31)) + 366 - 1\n",
    "start = date.toordinal(date(2019, 1, 1)) + 366 - 1\n",
    "stop = date.toordinal(date(2019, 12, 31)) + 366 - 1\n",
    "\n",
    "print(lastDay) # MATLAB: 737790\n",
    "print(start) # MATLAB: 736696\n",
    "print(stop) # MATLAB: 737425"
   ]
  },
  {
   "cell_type": "code",
   "execution_count": 114,
   "metadata": {
    "colab": {
     "base_uri": "https://localhost:8080/"
    },
    "id": "GBXjCqqwphw7",
    "outputId": "88c23343-ff3a-467d-e83e-733153cae59a"
   },
   "outputs": [
    {
     "name": "stdout",
     "output_type": "stream",
     "text": [
      "(288, 366)\n",
      "(105408,)\n"
     ]
    }
   ],
   "source": [
    "# tlambda: Electricity price over time period t\n",
    "# There are 730 days in total, and we flatten the array to 210528\n",
    "tlambda = RTP[:, (len(RTP[0])-lastDay+start-2):(len(RTP[0])-lastDay+stop)]\n",
    "print(tlambda.shape)\n",
    "tlambda = tlambda.flatten('F')                                                                                                                                                                                                                                  \n",
    "print(tlambda.shape)"
   ]
  },
  {
   "cell_type": "code",
   "execution_count": 108,
   "metadata": {
    "colab": {
     "base_uri": "https://localhost:8080/"
    },
    "id": "4pJZweIPpmJC",
    "outputId": "7899dafb-1d57-4e36-9d74-1189e39595cc"
   },
   "outputs": [
    {
     "name": "stdout",
     "output_type": "stream",
     "text": [
      "(288, 366)\n",
      "(105408,)\n"
     ]
    }
   ],
   "source": [
    "# tlambda: Electricity price over time period t\n",
    "# There are 730 days in total, and we flatten the array\n",
    "tlambda_DA = DAP[:, (len(DAP[0])-lastDay+start-2):(len(DAP[0])-lastDay+stop)]\n",
    "print(tlambda_DA.shape)\n",
    "tlambda_DA = tlambda_DA.flatten('F')\n",
    "print(tlambda_DA.shape)"
   ]
  },
  {
   "cell_type": "code",
   "execution_count": 68,
   "metadata": {
    "colab": {
     "base_uri": "https://localhost:8080/"
    },
    "id": "3_Jo2B0YS6l6",
    "outputId": "e78a96d2-b7ea-49ef-a7b8-93869a16a330"
   },
   "outputs": [
    {
     "data": {
      "text/plain": [
       "array([24.63, 24.63, 24.63, ..., 17.82, 17.82, 17.82])"
      ]
     },
     "execution_count": 68,
     "metadata": {},
     "output_type": "execute_result"
    }
   ],
   "source": [
    "tlambda_DA"
   ]
  },
  {
   "cell_type": "code",
   "execution_count": 69,
   "metadata": {
    "colab": {
     "base_uri": "https://localhost:8080/"
    },
    "id": "0nTK7H7haERZ",
    "outputId": "08668360-afe4-4f96-a256-ed7ab40ccecc"
   },
   "outputs": [
    {
     "name": "stdout",
     "output_type": "stream",
     "text": [
      "105120\n"
     ]
    }
   ],
   "source": [
    "# MATLAB: 210240\n",
    "T = int((stop-start+1)*24/Ts)\n",
    "print(T)"
   ]
  },
  {
   "cell_type": "code",
   "execution_count": 70,
   "metadata": {
    "colab": {
     "base_uri": "https://localhost:8080/"
    },
    "id": "HJuxBspQa0bJ",
    "outputId": "edfa8afc-cf2a-475a-ead1-ee5751ffa290"
   },
   "outputs": [
    {
     "data": {
      "text/plain": [
       "3650"
      ]
     },
     "execution_count": 70,
     "metadata": {},
     "output_type": "execute_result"
    }
   ],
   "source": [
    "len(RTP[0])-lastDay+stop"
   ]
  },
  {
   "cell_type": "markdown",
   "metadata": {
    "id": "hGOaVs-foSQR"
   },
   "source": [
    "### Set parameters\n",
    "\n"
   ]
  },
  {
   "cell_type": "code",
   "execution_count": 95,
   "metadata": {
    "id": "9ifyrT-nkmAF"
   },
   "outputs": [],
   "source": [
    "Pr = .5; # normalized power rating wrt energy rating (highest power input allowed to flow through particular equipment)\n",
    "P = Pr*Ts; # actual power rating taking time step size into account\n",
    "eta = 1.0; # efficiency\n",
    "c = 10; # marginal discharge cost - degradation\n",
    "ed = .001; # SoC sample granularity\n",
    "ef = .5; # final SoC target level, use 0 if none (ensure that electric vehicles are sufficiently charged at the end of the period)\n",
    "Ne = math.floor(1/ed)+1; # number of SOC samples\n",
    "e0 = .5; # Beginning SoC level?"
   ]
  },
  {
   "cell_type": "markdown",
   "metadata": {
    "id": "JwIxDtrSoWK3"
   },
   "source": [
    "### Generate Value Function"
   ]
  },
  {
   "cell_type": "code",
   "execution_count": 96,
   "metadata": {
    "colab": {
     "base_uri": "https://localhost:8080/"
    },
    "id": "65Xt3j7pnMT5",
    "outputId": "4b102e84-17ad-4208-cf1f-fc163a395527"
   },
   "outputs": [
    {
     "name": "stdout",
     "output_type": "stream",
     "text": [
      "(1001,)\n",
      "500\n",
      "[100. 100. 100. ...   0.   0.   0.]\n"
     ]
    }
   ],
   "source": [
    "# Generate value function samples\n",
    "vEnd = np.zeros(Ne)\n",
    "print(vEnd.shape)\n",
    "\n",
    "# Use 100 as the penalty for final discharge level\n",
    "vEnd[0:math.floor(ef * 1001)] = 1e2 # vEnd has 100 from position 0 to 9, 0 from 10 to 20\n",
    "print(math.floor(ef * 1001))\n",
    "print(vEnd)"
   ]
  },
  {
   "cell_type": "code",
   "execution_count": 97,
   "metadata": {
    "colab": {
     "base_uri": "https://localhost:8080/"
    },
    "id": "4-XQS0p0hOZM",
    "outputId": "ac093f9e-d04e-4bf9-e254-d777cb32e253"
   },
   "outputs": [
    {
     "name": "stdout",
     "output_type": "stream",
     "text": [
      "[[  0.   0.   0. ...   0.   0. 100.]\n",
      " [  0.   0.   0. ...   0.   0. 100.]\n",
      " [  0.   0.   0. ...   0.   0. 100.]\n",
      " ...\n",
      " [  0.   0.   0. ...   0.   0.   0.]\n",
      " [  0.   0.   0. ...   0.   0.   0.]\n",
      " [  0.   0.   0. ...   0.   0.   0.]]\n",
      "(1001, 105121)\n"
     ]
    }
   ],
   "source": [
    "# TODO: index debug\n",
    "# v: the risk-neutral value function\n",
    "v = np.zeros((Ne, T+1)) # initialize the value function series\n",
    "\n",
    "# v[0, 0] is the marginal value of 0% SoC at the beginning of day 1\n",
    "# v[Ne, T]is the maringal value of 100% SoC at the beginning of the last operating day\n",
    "\n",
    "v[:, -1] = vEnd\n",
    "\n",
    "print(v)\n",
    "print(v.shape)"
   ]
  },
  {
   "cell_type": "code",
   "execution_count": 98,
   "metadata": {
    "colab": {
     "base_uri": "https://localhost:8080/"
    },
    "id": "hP7u6V4HhVTm",
    "outputId": "5247f7c7-ecb3-4322-9a01-e11f3c5fbbcb"
   },
   "outputs": [
    {
     "name": "stdout",
     "output_type": "stream",
     "text": [
      "[0.    0.001 0.002 ... 0.998 0.999 1.   ]\n",
      "1001\n"
     ]
    }
   ],
   "source": [
    "# process index\n",
    "# discretize vt by modeling it as an vector v_{t,j} in which each element is associated with equally spaced SoC samples\n",
    "es = np.arange(start=0, stop=1+ed, step=ed)\n",
    "\n",
    "# the number of samples is J = 1 + E/ed\n",
    "Ne = len(es)\n",
    "\n",
    "print(es)\n",
    "print(Ne)"
   ]
  },
  {
   "cell_type": "code",
   "execution_count": 99,
   "metadata": {
    "colab": {
     "base_uri": "https://localhost:8080/"
    },
    "id": "Fp2wggInhePT",
    "outputId": "772c6175-e8b3-4ae4-f044-4ea9373b6993"
   },
   "outputs": [
    {
     "name": "stdout",
     "output_type": "stream",
     "text": [
      "[0.04166667 0.04266667 0.04366667 ... 1.03966667 1.04066667 1.04166667]\n",
      "[  42.   43.   44. ... 1040. 1041. 1042.]\n",
      "[  42.   43.   44. ... 1002. 1002. 1002.]\n",
      "[  42.   43.   44. ... 1002. 1002. 1002.]\n",
      "(1001,)\n"
     ]
    }
   ],
   "source": [
    "# calculate soc after charge vC = v_t(e+P*eta)\n",
    "eC = es + P*eta; \n",
    "print(eC)\n",
    "\n",
    "# round to the nearest sample \n",
    "# 0, 1, 2, ... 1001, 1002\n",
    "iC = np.ceil(eC/ed)\n",
    "print(iC)\n",
    "\n",
    "iC[iC > (Ne+1)] = Ne + 1\n",
    "print(iC)\n",
    "\n",
    "iC[iC < 1] = 0\n",
    "print(iC)\n",
    "\n",
    "print(iC.shape)"
   ]
  },
  {
   "cell_type": "code",
   "execution_count": 100,
   "metadata": {
    "colab": {
     "base_uri": "https://localhost:8080/"
    },
    "id": "WmjI_NrcoHSe",
    "outputId": "1a46d940-5573-4d96-fa4b-9630d9bf8ff5"
   },
   "outputs": [
    {
     "name": "stdout",
     "output_type": "stream",
     "text": [
      "[-0.04166667 -0.04066667 -0.03966667 ...  0.95633333  0.95733333\n",
      "  0.95833333]\n",
      "[-42. -41. -40. ... 956. 957. 958.]\n",
      "[-42. -41. -40. ... 956. 957. 958.]\n",
      "[  0.   0.   0. ... 956. 957. 958.]\n",
      "(1001,)\n"
     ]
    }
   ],
   "source": [
    "# calculate soc after discharge vC = v_t(e-P/eta)\n",
    "eD = es - P/eta\n",
    "print(eD)\n",
    "\n",
    "# round to the nearest sample \n",
    "# 0, 1, 2, ... 1001, 1002\n",
    "iD = np.floor(eD/ed)\n",
    "print(iD)\n",
    "\n",
    "iD[iD > (Ne+1)] = Ne + 1\n",
    "print(iD)\n",
    "\n",
    "iD[iD < 1] = 0\n",
    "print(iD)\n",
    "\n",
    "print(iD.shape)"
   ]
  },
  {
   "cell_type": "code",
   "execution_count": null,
   "metadata": {
    "colab": {
     "base_uri": "https://localhost:8080/"
    },
    "id": "d3G2N6rwRTUC",
    "outputId": "ec78c79e-08d6-4874-bc20-73990e8b79e6"
   },
   "outputs": [],
   "source": [
    "v.shape"
   ]
  },
  {
   "cell_type": "code",
   "execution_count": null,
   "metadata": {
    "colab": {
     "base_uri": "https://localhost:8080/"
    },
    "id": "38AJiT0uZ9g4",
    "outputId": "8afc6f7d-3748-4e73-ed7c-0fae0b6e2b61"
   },
   "outputs": [],
   "source": [
    "T-1+24/Ts"
   ]
  },
  {
   "cell_type": "code",
   "execution_count": 115,
   "metadata": {
    "colab": {
     "base_uri": "https://localhost:8080/"
    },
    "id": "MO8GMtvqogfr",
    "outputId": "17b3a89b-0517-4857-d39f-15ed1e0d014a"
   },
   "outputs": [
    {
     "name": "stdout",
     "output_type": "stream",
     "text": [
      "[[  5.71   5.71   5.71 ... 100.   100.   100.  ]\n",
      " [  5.71   5.71   5.71 ... 100.   100.   100.  ]\n",
      " [  5.71   5.71   5.71 ... 100.   100.   100.  ]\n",
      " ...\n",
      " [  3.09   3.09   3.09 ...   0.     0.     0.  ]\n",
      " [  3.09   3.09   3.09 ...   0.     0.     0.  ]\n",
      " [  3.09   3.09   3.09 ...   0.     0.     0.  ]]\n",
      "(1001, 105121)\n",
      "1826028587.1300006\n"
     ]
    }
   ],
   "source": [
    "for t in reversed(range(0, T)): # start from the last day and move backwards\n",
    "    vi = v[:, t+1] # input value function from tomorrow\n",
    "    vo = CalcValueNoUnc(tlambda[int(t+24/Ts)], c, P, eta, vi, ed, iC.astype(int), iD.astype(int))\n",
    "    v[:,t] = vo # record the result \n",
    "    # print(tlambda[int(t+24/Ts)])\n",
    "    # break\n",
    "\n",
    "print(v)\n",
    "print(v.shape)\n",
    "# TODO: MATLAB gives 6.2082e+09. Need to look into further on this.\n",
    "print(np.sum(v))"
   ]
  },
  {
   "cell_type": "code",
   "execution_count": null,
   "metadata": {
    "colab": {
     "base_uri": "https://localhost:8080/"
    },
    "id": "WXRYBZVHSWQ-",
    "outputId": "ab051078-2cf7-4c88-8ad3-d07a09ff7f55"
   },
   "outputs": [],
   "source": [
    "tlambda[int(T-2+24/Ts)]"
   ]
  },
  {
   "cell_type": "code",
   "execution_count": null,
   "metadata": {
    "colab": {
     "base_uri": "https://localhost:8080/"
    },
    "id": "-mZGJFOYZePq",
    "outputId": "a294e99d-3794-404c-d557-0ab7af3ef220"
   },
   "outputs": [],
   "source": [
    "tlambda[-20:]"
   ]
  },
  {
   "cell_type": "markdown",
   "metadata": {
    "id": "Z6c_n1JLfMAf"
   },
   "source": [
    "### Downscale value function"
   ]
  },
  {
   "cell_type": "code",
   "execution_count": 116,
   "metadata": {
    "id": "gMy7qatLYvoL"
   },
   "outputs": [],
   "source": [
    "# bin shape\n",
    "# a = 50\n",
    "# b = 1\n",
    "# vAvg = v[0:1000, :].reshape([1000 // a, a, v.shape[1] // b, b]).mean(3).mean(1)\n",
    "num_segment = 50\n",
    "vAvg = v[0:1000, :].reshape([num_segment, int(1000/num_segment), v.shape[1], 1]).mean(3).mean(1)"
   ]
  },
  {
   "cell_type": "code",
   "execution_count": null,
   "metadata": {
    "colab": {
     "base_uri": "https://localhost:8080/"
    },
    "id": "QqxzVM_Nf9C9",
    "outputId": "4ded52e3-1fc2-44a9-9eb6-d619deb80540"
   },
   "outputs": [],
   "source": [
    "vAvg.shape"
   ]
  },
  {
   "cell_type": "code",
   "execution_count": null,
   "metadata": {
    "colab": {
     "base_uri": "https://localhost:8080/"
    },
    "id": "Clu0XYLfgZV-",
    "outputId": "7154d8a6-ed67-4877-d5b3-4e072ed9773d"
   },
   "outputs": [],
   "source": [
    "vAvg.shape[0]"
   ]
  },
  {
   "cell_type": "markdown",
   "metadata": {
    "id": "gJWOev7Nonn-"
   },
   "source": [
    "## Perform Arbitrage"
   ]
  },
  {
   "cell_type": "code",
   "execution_count": 117,
   "metadata": {
    "id": "xk1KfRW0omkR"
   },
   "outputs": [],
   "source": [
    "eS = np.zeros(T) # generate the SoC series\n",
    "# print(eS.shape)\n",
    "\n",
    "pS = np.zeros(T) # generate the power series\n",
    "# print(eS.shape)\n",
    "\n",
    "e = e0 # initial SoC\n",
    "# print(e)\n",
    "\n",
    "\n",
    "for t in range(T): # start from the first day and move forwards\n",
    "    vv = vAvg[:, t+1] # read the SoC value for this day\n",
    "    e, p = ArbValue(tlambda[t+288], vv, e, P, 1, eta, c, vAvg.shape[0])\n",
    "    eS[t] = np.float64(e).copy() # record SoC\n",
    "    pS[t] = np.float64(p).copy() # record Power"
   ]
  },
  {
   "cell_type": "markdown",
   "metadata": {
    "id": "cefXkFqSo2EP"
   },
   "source": [
    "### Results"
   ]
  },
  {
   "cell_type": "code",
   "execution_count": 118,
   "metadata": {
    "colab": {
     "base_uri": "https://localhost:8080/"
    },
    "id": "FstlaNL4mmyd",
    "outputId": "f4a4f66b-70ad-4428-ab28-5d939b961e50"
   },
   "outputs": [
    {
     "name": "stdout",
     "output_type": "stream",
     "text": [
      "27274.220365646248\n",
      "34108.31900510203\n"
     ]
    }
   ],
   "source": [
    "ProfitOut = np.sum(pS * tlambda[288:]) - np.sum(c * pS[pS>0])\n",
    "Revenue = np.sum(pS * tlambda[288:])\n",
    "print(ProfitOut)\n",
    "print(Revenue)"
   ]
  },
  {
   "cell_type": "markdown",
   "metadata": {
    "id": "fsJLhngeMSix"
   },
   "source": [
    "# Multi Layer Perceptron Regression with Average Prices"
   ]
  },
  {
   "cell_type": "code",
   "execution_count": null,
   "metadata": {
    "colab": {
     "base_uri": "https://localhost:8080/"
    },
    "id": "qou7R462Mn_m",
    "outputId": "e2639202-f304-4120-83d2-00bdc774a19e"
   },
   "outputs": [],
   "source": [
    "Ts = 1/12; # time step: 5min\n",
    "\n",
    "lastDay = date.toordinal(date(2019, 12, 31)) + 366 - 1\n",
    "start = date.toordinal(date(2017, 1, 1)) + 366 - 1\n",
    "stop = date.toordinal(date(2018, 12, 31)) + 366 - 1\n",
    "\n",
    "\n",
    "# tlambda: Electricity price over time period t\n",
    "# There are 731 days in total, and we flatten the array to 210528\n",
    "# len(RTP[0])-lastDay+start-2 = 2254 (Include one day ahead of start)\n",
    "# len(RTP[0])-lastDay+stop = 3285 (Include stop)\n",
    "tlambda = RTP[:, (len(RTP[0])-lastDay+start-2):(len(RTP[0])-lastDay+stop)]\n",
    "print(tlambda.shape)\n",
    "tlambda = tlambda.flatten('F')\n",
    "print(tlambda.shape)\n",
    "\n",
    "\n",
    "# tlambda: Electricity price over time period t\n",
    "# There are 731 days in total, and we flatten the array\n",
    "tlambda_DA = DAP[:, (len(DAP[0])-lastDay+start-2):(len(DAP[0])-lastDay+stop)]\n",
    "print(tlambda_DA.shape)\n",
    "tlambda_DA = tlambda_DA.flatten('F')\n",
    "print(tlambda_DA.shape)\n",
    "\n",
    "\n",
    "# MATLAB: 210240\n",
    "T = int((stop-start+1)*24/Ts);\n",
    "print(T)\n",
    "\n",
    "\n",
    "Pr = .5; # normalized power rating wrt energy rating (highest power input allowed to flow through particular equipment)\n",
    "P = Pr*Ts; # actual power rating taking time step size into account\n",
    "eta = .9; # efficiency\n",
    "c = 10; # marginal discharge cost - degradation\n",
    "ed = .001; # SoC sample granularity\n",
    "ef = .5; # final SoC target level, use 0 if none (ensure that electric vehicles are sufficiently charged at the end of the period)\n",
    "Ne = math.floor(1/ed)+1; # number of SOC samples\n",
    "e0 = .5; # Beginning SoC level?\n",
    "\n",
    "\n",
    "# Generate value function samples\n",
    "vEnd = np.zeros(Ne)\n",
    "print(vEnd.shape)\n",
    "\n",
    "# Use 100 as the penalty for final discharge level\n",
    "vEnd[0:math.floor(ef * 1001)] = 1e2 # vEnd has 100 from position 0 to 9, 0 from 10 to 20\n",
    "print(math.floor(ef * 1001))\n",
    "print(vEnd)\n",
    "\n",
    "\n",
    "# TODO: index debug\n",
    "# v: the risk-neutral value function\n",
    "v = np.zeros((Ne, T+1)) # initialize the value function series\n",
    "\n",
    "# v[0, 0] is the marginal value of 0% SoC at the beginning of day 1\n",
    "# v[Ne, T]is the maringal value of 100% SoC at the beginning of the last operating day\n",
    "\n",
    "v[:, -1] = vEnd\n",
    "\n",
    "print(v)\n",
    "print(v.shape)\n",
    "\n",
    "\n",
    "# process index\n",
    "# discretize vt by modeling it as an vector v_{t,j} in which each element is associated with equally spaced SoC samples\n",
    "es = np.arange(start=0, stop=1+ed, step=ed)\n",
    "\n",
    "# the number of samples is J = 1 + E/ed\n",
    "Ne = len(es)\n",
    "\n",
    "print(es)\n",
    "print(Ne)\n",
    "\n",
    "\n",
    "# calculate soc after charge vC = v_t(e+P*eta)\n",
    "eC = es + P*eta\n",
    "print(eC)\n",
    "\n",
    "# round to the nearest sample \n",
    "# 0, 1, 2, ... 1001, 1002\n",
    "iC = np.ceil(eC/ed)\n",
    "print(iC)\n",
    "\n",
    "iC[iC > (Ne+1)] = Ne + 1\n",
    "print(iC)\n",
    "\n",
    "iC[iC < 1] = 0\n",
    "print(iC)\n",
    "\n",
    "print(iC.shape)\n",
    "\n",
    "\n",
    "# calculate soc after discharge vC = v_t(e-P/eta)\n",
    "eD = es - P/eta\n",
    "print(eD)\n",
    "\n",
    "# round to the nearest sample \n",
    "# 0, 1, 2, ... 1001, 1002\n",
    "iD = np.floor(eD/ed)\n",
    "print(iD)\n",
    "\n",
    "iD[iD > (Ne+1)] = Ne + 1\n",
    "print(iD)\n",
    "\n",
    "iD[iD < 1] = 0\n",
    "print(iD)\n",
    "\n",
    "print(iD.shape)\n",
    "\n",
    "\n",
    "for t in reversed(range(0, T)): # start from the last day and move backwards\n",
    "    vi = v[:, t+1] # input value function of next time stamp\n",
    "    vo = CalcValueNoUnc(tlambda[int(t+24/Ts)], c, P, eta, vi, ed, iC.astype(int), iD.astype(int))\n",
    "    v[:,t] = vo # record the result\n",
    "\n",
    "\n",
    "# bin shape\n",
    "a = 50\n",
    "b = 1\n",
    "vAvg = v[0:1000, :].reshape([1000 // a, a, v.shape[1] // b, b]).mean(3).mean(1)"
   ]
  },
  {
   "cell_type": "code",
   "execution_count": null,
   "metadata": {
    "id": "STsf0BqYNbXz"
   },
   "outputs": [],
   "source": [
    "X_train = np.zeros((T, 24))\n",
    "\n",
    "# Subsample DAP\n",
    "DAP_sub = DAP[::12]\n",
    "\n",
    "# Select dates and flatten\n",
    "lambda_DA_sub = DAP_sub[:, (len(DAP_sub[0])-lastDay+start-2):(len(DAP_sub[0])-lastDay+stop+1)]\n",
    "tlambda_DA_sub = lambda_DA_sub.flatten('F')\n",
    "\n",
    "# Select previous 11 prices and current price\n",
    "for t in range(T):\n",
    "    X_train[t, 0:12] = tlambda_DA_sub[int(t/12)+13 : int(t/12)+25]\n",
    "\n",
    "# Select previous 11 prices and current price\n",
    "for t in range(T):\n",
    "    X_train[t, 12:24] = tlambda[t+277 : t+289]\n",
    "\n",
    "\n",
    "X_train_avg = np.zeros((T,24))\n",
    "\n",
    "for t in range(T):\n",
    "    for i in range(12):\n",
    "        X_train_avg[t, i] = np.mean(X_train[t, i:12])\n",
    "\n",
    "for t in range(T):\n",
    "    for i in range(12):\n",
    "        X_train_avg[t, 12+i] = np.mean(X_train[t, 12+i:24])\n",
    "\n",
    "\n",
    "y_train = vAvg.T[0:T, :]"
   ]
  },
  {
   "cell_type": "code",
   "execution_count": null,
   "metadata": {
    "colab": {
     "base_uri": "https://localhost:8080/"
    },
    "id": "FQFgJd76NXe5",
    "outputId": "3037de01-f1b2-490d-c0d8-f284e5cfce3c"
   },
   "outputs": [],
   "source": [
    "model = tf.keras.Sequential([\n",
    "  tf.keras.layers.InputLayer(input_shape=(24,)),\n",
    "    tf.keras.layers.Dense(64, activation='relu'),\n",
    "    tf.keras.layers.Dense(20)\n",
    "])\n",
    "\n",
    "\n",
    "# Since we are doing regression, we use mean squared error here\n",
    "model.compile(optimizer='adam',\n",
    "              loss=tf.keras.losses.MeanSquaredError())\n",
    "\n",
    "\n",
    "model.fit(X_train_avg, y_train, epochs=10)"
   ]
  },
  {
   "cell_type": "code",
   "execution_count": null,
   "metadata": {
    "colab": {
     "base_uri": "https://localhost:8080/",
     "height": 317
    },
    "id": "wj4R0lRlNxDr",
    "outputId": "8e69fbd4-e21c-4563-f1f6-1c4b27ad8d3a"
   },
   "outputs": [],
   "source": [
    "prediction = model.predict( np.array([X_train_avg[11],]))\n",
    "print(prediction)\n",
    "plt.plot(prediction[0], linestyle = 'dotted')\n",
    "plt.show()"
   ]
  },
  {
   "cell_type": "code",
   "execution_count": null,
   "metadata": {
    "colab": {
     "base_uri": "https://localhost:8080/",
     "height": 265
    },
    "id": "MynNhoMKN27s",
    "outputId": "c60f6c4a-895a-47e5-a397-7024467e4320"
   },
   "outputs": [],
   "source": [
    "v2 = model.predict(X_train_avg).T\n",
    "plt.plot(v2[10,0:287], linestyle = 'dotted')\n",
    "plt.plot(v[10,0:287], linestyle = 'dotted')\n",
    "plt.show()"
   ]
  },
  {
   "cell_type": "code",
   "execution_count": null,
   "metadata": {
    "id": "gdw__YFmN9D5"
   },
   "outputs": [],
   "source": [
    "eS = np.zeros(T) # generate the SoC series\n",
    "# print(eS.shape)\n",
    "\n",
    "pS = np.zeros(T) # generate the power series\n",
    "# print(eS.shape)\n",
    "\n",
    "e = e0 # initial SoC\n",
    "# print(e)\n",
    "\n",
    "\n",
    "for t in range(T-1): # start from the first day and move forwards\n",
    "    vv = v2[:, t+1]\n",
    "    e, p = ArbValue(tlambda[288+t], vv, e, P, 1, eta, c, v2.shape[0])\n",
    "    eS[t] = e # record SoC\n",
    "    pS[t] = p # record Power"
   ]
  },
  {
   "cell_type": "code",
   "execution_count": null,
   "metadata": {
    "colab": {
     "base_uri": "https://localhost:8080/"
    },
    "id": "ZEEhSztPOiBt",
    "outputId": "388c26d7-7144-4099-c7d2-7d4cb7002f43"
   },
   "outputs": [],
   "source": [
    "ProfitOut = np.sum(pS * tlambda[288:]) - np.sum(c * pS[pS>0])\n",
    "Revenue = np.sum(pS * tlambda[288:])\n",
    "print(ProfitOut)\n",
    "print(Revenue)"
   ]
  },
  {
   "cell_type": "code",
   "execution_count": null,
   "metadata": {
    "colab": {
     "base_uri": "https://localhost:8080/"
    },
    "id": "Z9VsUJbsOGQ4",
    "outputId": "86378a5b-eeb1-4522-9c58-483ce750a889"
   },
   "outputs": [],
   "source": [
    "from datetime import date\n",
    "\n",
    "startTest = date.toordinal(date(2019, 1, 1)) + 366 - 1\n",
    "stopTest = date.toordinal(date(2019, 12, 31)) + 366 - 1\n",
    "\n",
    "T2 = int((stopTest-startTest+1)*24/Ts)\n",
    "\n",
    "\n",
    "X_test = np.zeros((T2, 24))\n",
    "\n",
    "tlambda_RTP_test = RTP[:, (len(RTP[0])-lastDay+startTest-2):(len(RTP[0])-lastDay+stopTest)]\n",
    "print(tlambda_RTP_test.shape)\n",
    "tlambda_RTP_test = tlambda_RTP_test.flatten('F')\n",
    "print(tlambda_RTP_test.shape)\n",
    "\n",
    "for t in range(T2):\n",
    "    X_test[t, 12:24] = tlambda_RTP_test[t+277 : t+289]\n",
    "\n",
    "DAP_sub = DAP[::12]\n",
    "\n",
    "lambda_DA_sub = DAP_sub[:, (len(DAP_sub[0])-lastDay+startTest-2):(len(DAP_sub[0])-lastDay+stopTest+1)]\n",
    "tlambda_DA_sub = lambda_DA_sub.flatten('F')\n",
    "tlambda_DA_sub.shape\n",
    "\n",
    "for t in range(T2):\n",
    "    X_test[t, 0:12] = tlambda_DA_sub[int(t/12)+13 : int(t/12)+25]\n",
    "\n",
    "\n",
    "X_test_avg = np.zeros((T2, 24))\n",
    "\n",
    "for t in range(T2):\n",
    "    for i in range(12):\n",
    "        X_test_avg[t, i] = np.mean(X_test[t, i:12])\n",
    "\n",
    "for t in range(T2):\n",
    "    for i in range(12):\n",
    "        X_test_avg[t, 12+i] = np.mean(X_test[t, 12+i:24])"
   ]
  },
  {
   "cell_type": "code",
   "execution_count": null,
   "metadata": {
    "id": "HIBC3a-HPRZu"
   },
   "outputs": [],
   "source": [
    "v3 = model.predict(X_test_avg).T\n",
    "\n",
    "eS_test = np.zeros(T2) # generate the SoC series\n",
    "# print(eS.shape)\n",
    "\n",
    "pS_test = np.zeros(T2) # generate the power series\n",
    "# print(eS.shape)\n",
    "\n",
    "e = e0 # initial SoC\n",
    "# print(e)\n",
    " \n",
    "\n",
    "for t in range(T2-1): # start from the first day and move forwards\n",
    "    vv = v3[:, t+1]\n",
    "    e, p = ArbValue(tlambda_RTP_test[288+t], vv, e, P, 1, eta, c, v3.shape[0])\n",
    "    eS_test[t] = e # record SoC\n",
    "    pS_test[t] = p # record Power"
   ]
  },
  {
   "cell_type": "code",
   "execution_count": null,
   "metadata": {
    "colab": {
     "base_uri": "https://localhost:8080/"
    },
    "id": "TwT55FArPXVV",
    "outputId": "0dc20d30-d77e-4509-b23a-c9220980bcfb"
   },
   "outputs": [],
   "source": [
    "ProfitOutTest = np.sum(pS_test * tlambda_RTP_test[288:]) - np.sum(c * pS_test[pS_test>0])\n",
    "RevenueTest = np.sum(pS_test * tlambda_RTP_test[288:])\n",
    "print(ProfitOutTest)\n",
    "print(RevenueTest)"
   ]
  }
 ],
 "metadata": {
  "accelerator": "GPU",
  "colab": {
   "collapsed_sections": [
    "w-IxgWwfSAFw"
   ],
   "provenance": []
  },
  "kernelspec": {
   "display_name": "envTF282",
   "language": "python",
   "name": "envtf282"
  },
  "language_info": {
   "codemirror_mode": {
    "name": "ipython",
    "version": 3
   },
   "file_extension": ".py",
   "mimetype": "text/x-python",
   "name": "python",
   "nbconvert_exporter": "python",
   "pygments_lexer": "ipython3",
   "version": "3.9.13"
  }
 },
 "nbformat": 4,
 "nbformat_minor": 1
}
